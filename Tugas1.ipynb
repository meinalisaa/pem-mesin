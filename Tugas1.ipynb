{
  "nbformat": 4,
  "nbformat_minor": 0,
  "metadata": {
    "colab": {
      "name": "Tugas1.ipynb",
      "provenance": [],
      "collapsed_sections": [],
      "include_colab_link": true
    },
    "kernelspec": {
      "name": "python3",
      "display_name": "Python 3"
    },
    "language_info": {
      "name": "python"
    }
  },
  "cells": [
    {
      "cell_type": "markdown",
      "metadata": {
        "id": "view-in-github",
        "colab_type": "text"
      },
      "source": [
        "<a href=\"https://colab.research.google.com/github/meinalisaa/pem-mesin/blob/main/Tugas1.ipynb\" target=\"_parent\"><img src=\"https://colab.research.google.com/assets/colab-badge.svg\" alt=\"Open In Colab\"/></a>"
      ]
    },
    {
      "cell_type": "markdown",
      "source": [
        "## Tugas 1 Lab Pembelajaran Mesin\n",
        "---\n",
        "* Nama : Meina Lisa\n",
        "* NIM  : 191402032\n",
        "* Kom  : B, Teknologi Informasi\n",
        "\n",
        "(penjelasan melalui komentar dipisah dibawah)"
      ],
      "metadata": {
        "id": "SxKWENKAE4om"
      }
    },
    {
      "cell_type": "code",
      "execution_count": null,
      "metadata": {
        "colab": {
          "base_uri": "https://localhost:8080/"
        },
        "id": "d8BvyxxXE3jK",
        "outputId": "56b4636b-b36e-459e-c377-44856fe0729b"
      },
      "outputs": [
        {
          "output_type": "stream",
          "name": "stdout",
          "text": [
            "    *qqqqq\n",
            "   **qqqq\n",
            "  ***qqq\n",
            " ****qq\n",
            "*****q\n",
            "o        2\n",
            "oo   22   \n",
            "ooo    222\n",
            "oooo 2222 \n",
            "ooooo22222\n"
          ]
        }
      ],
      "source": [
        "# Tugas 1 Lab Pembelajaran Mesin\n",
        "# Nama  : Meina Lisa\n",
        "# NIM   : 191402032\n",
        "# Kom   : B1, Teknologi Informasi\n",
        "\n",
        "a = 5\n",
        "s = a - 1 # untuk spasi blok *\n",
        "for i in range(0, a):\n",
        "  for j in range(0, s):\n",
        "    print(' ', end = '') #space\n",
        "  s -= 1\n",
        "  for j in range(0, i+1):\n",
        "    print('*', end = '')\n",
        "\n",
        "  for j in range(0, a):\n",
        "    print('q', end = '')\n",
        "  a -= 1\n",
        "  print('')\n",
        "\n",
        "\n",
        "b = 5\n",
        "s1 = b - 1 # untuk spasi blok 1\n",
        "s2 = b - 1 # untuk spasi blok 2\n",
        "for i in range(0, b):\n",
        "  for j in range(0, i+1):\n",
        "    print('o', end = '')\n",
        "  for j in range(0, s1):\n",
        "    print(' ', end = '') #space\n",
        "  s1 -= 1\n",
        "\n",
        "  if(i%2 == 0):\n",
        "    for j in range(0, s2):\n",
        "      print(' ', end = '') #space\n",
        "    s2 -= 2\n",
        "    for j in range(0, i+1):\n",
        "      print('2', end = '')\n",
        "    print('')\n",
        "  else:\n",
        "    for j in range(0, i+1):\n",
        "      print('2', end = '')\n",
        "    for j in range(0, s2+1):\n",
        "      print(' ', end ='') #space\n",
        "    print('')"
      ]
    },
    {
      "cell_type": "code",
      "source": [
        "# menampilkan segitiga siku-siku bertambah (spasi+bintang)\n",
        "\n",
        "a = 5 # deklarasi variabel (jumlah bintang yang diinginkan)\n",
        "s = a - 1 # untuk spasi (sebanyak a dikurang 1)\n",
        "for i in range(0, a): # perulangan berdasarkan i dari 0 sampai a\n",
        "  for j in range(0, s): # nested loop, range 0 sampai s\n",
        "    print(' ', end = '') # mencetak spasi\n",
        "  s -= 1 # mengurangi nilai spasi agar berurutan 4, 3, 2, 1\n",
        "\n",
        "  for j in range(0, i+1): # nested loop, range 0 sampai i+1\n",
        "    print('*', end= '') # mencetak bintang\n",
        "  print('') # agar ada baris baru"
      ],
      "metadata": {
        "colab": {
          "base_uri": "https://localhost:8080/"
        },
        "id": "z9gLH5-eE_yK",
        "outputId": "fec0a54a-1edd-4fd6-e8c3-ca7c74bbe884"
      },
      "execution_count": null,
      "outputs": [
        {
          "output_type": "stream",
          "name": "stdout",
          "text": [
            "    *\n",
            "   **\n",
            "  ***\n",
            " ****\n",
            "*****\n"
          ]
        }
      ]
    },
    {
      "cell_type": "code",
      "source": [
        "# menampilkan segitiga siku-siku berkurang (huruf q+spasi)\n",
        "\n",
        "a = 5 # deklarasi variabel (jumlah huruf yang diinginkan)\n",
        "s = a - 1 # untuk spasi (sebanyak a dikurang 1)\n",
        "for i in range(0, a): # perulangan baris, range 0 sampai a\n",
        "  for j in range(0, a): # nested loop untuk jumlah huruf\n",
        "    print('q', end= '') # mencetak huruf q\n",
        "  a -= 1 # mengurangi nilai a agar jumlah huruf berkurang berurutan\n",
        "  print('') # agar ada baris baru"
      ],
      "metadata": {
        "colab": {
          "base_uri": "https://localhost:8080/"
        },
        "id": "4-0r_fztFBxk",
        "outputId": "a7f8679f-9028-448c-d727-e739c485e892"
      },
      "execution_count": null,
      "outputs": [
        {
          "output_type": "stream",
          "name": "stdout",
          "text": [
            "qqqqq\n",
            "qqqq\n",
            "qqq\n",
            "qq\n",
            "q\n"
          ]
        }
      ]
    },
    {
      "cell_type": "code",
      "source": [
        "# menampilkan segitiga siku-siku bertambah (huruf o+spasi)\n",
        "\n",
        "b = 5 # deklarasi variabel\n",
        "s1 = b - 1 # untuk variabel jumlah spasi \n",
        "for i in range(0, b): # perulangan, range 0 sampai b\n",
        "  for j in range(0, i+1): # nested loop jumlah huruf \n",
        "    print('o', end= '') # mencetak huruf\n",
        "  for j in range(0, s1): # nested loop jumlah spasi\n",
        "    print(' ', end= '') # mencetak spasi\n",
        "  s1 -= 1 # mengurangi jumlah spasi yang dicetak\n",
        "  print('') # agar ada baris baru"
      ],
      "metadata": {
        "colab": {
          "base_uri": "https://localhost:8080/"
        },
        "id": "k9PGuLeZFDoJ",
        "outputId": "1a0cb872-b9c3-4bde-f241-9c1071679684"
      },
      "execution_count": null,
      "outputs": [
        {
          "output_type": "stream",
          "name": "stdout",
          "text": [
            "o    \n",
            "oo   \n",
            "ooo  \n",
            "oooo \n",
            "ooooo\n"
          ]
        }
      ]
    },
    {
      "cell_type": "code",
      "source": [
        "# menampilkan perulangan angka 2\n",
        "\n",
        "b = 5 # deklarasi variabel untuk jumlah baris\n",
        "s2 = b - 1 # untuk variabel jumlah spasi \n",
        "for i in range(0, b): # perulangan range 0 sampai b (5 baris)\n",
        "  if(i%2==0): # untuk memisahkan blok yang kanan dan kiri\n",
        "    for j in range(0, s2): # nested loop, mencetak spasi\n",
        "      print(' ', end= '') #space\n",
        "    s2-=2 # mengurangi spasi dengan 2 karena baris berikutnya ada di [else]\n",
        "    for j in range(0, i+1): # nested loop, mencetak angka 2\n",
        "      print('2', end= '')\n",
        "    print('') # agar ada baris baru\n",
        "  else:\n",
        "    for j in range(0, i+1): # nested loop, mencetak angka 2\n",
        "      print('2', end= '')\n",
        "    for j in range(0, s2+1): # nested loop, mencetak spasi\n",
        "      print(' ', end='') #space\n",
        "    print('') # agar ada baris baru"
      ],
      "metadata": {
        "colab": {
          "base_uri": "https://localhost:8080/"
        },
        "id": "xQI73SkRFFZf",
        "outputId": "199580db-035a-4054-e335-8e5ad00c3206"
      },
      "execution_count": null,
      "outputs": [
        {
          "output_type": "stream",
          "name": "stdout",
          "text": [
            "    2\n",
            "22   \n",
            "  222\n",
            "2222 \n",
            "22222\n"
          ]
        }
      ]
    }
  ]
}