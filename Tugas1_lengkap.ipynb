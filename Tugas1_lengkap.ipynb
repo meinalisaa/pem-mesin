{
  "nbformat": 4,
  "nbformat_minor": 0,
  "metadata": {
    "colab": {
      "name": "Tugas1 lengkap.ipynb",
      "provenance": [],
      "authorship_tag": "ABX9TyNoBp1Lsj9n33Yx++9w1nMP",
      "include_colab_link": true
    },
    "kernelspec": {
      "name": "python3",
      "display_name": "Python 3"
    },
    "language_info": {
      "name": "python"
    }
  },
  "cells": [
    {
      "cell_type": "markdown",
      "metadata": {
        "id": "view-in-github",
        "colab_type": "text"
      },
      "source": [
        "<a href=\"https://colab.research.google.com/github/meinalisaa/campuran/blob/main/Tugas1_lengkap.ipynb\" target=\"_parent\"><img src=\"https://colab.research.google.com/assets/colab-badge.svg\" alt=\"Open In Colab\"/></a>"
      ]
    },
    {
      "cell_type": "markdown",
      "source": [
        "## Tugas 1 Lab Pembelajaran Mesin\n",
        "---\n",
        "* Nama : Meina Lisa\n",
        "* NIM  : 191402032\n",
        "* Kom  : B, Teknologi Informasi\n",
        "\n",
        "(penjelasan melalui komentar dipisah dibawah)"
      ],
      "metadata": {
        "id": "zWgXQt3DBDa8"
      }
    },
    {
      "cell_type": "code",
      "source": [
        "a = 5\n",
        "s = a - 1 # untuk spasi blok *\n",
        "for i in range(0, a):\n",
        "  for j in range(0, s):\n",
        "    print(' ', end= '') #space\n",
        "  s-=1\n",
        "  for j in range(0, i+1):\n",
        "    print('*', end= '')\n",
        "\n",
        "  for j in range(0, a):\n",
        "    print('q', end= '')\n",
        "  a -= 1\n",
        "  print('')\n",
        "\n",
        "\n",
        "b = 5\n",
        "s1 = b - 1 # untuk spasi blok 1\n",
        "s2 = b - 1 # untuk spasi blok 2\n",
        "for i in range(0, b):\n",
        "  for j in range(0, i+1):\n",
        "    print('o', end= '')\n",
        "  for j in range(0, s1):\n",
        "    print(' ', end= '') #space\n",
        "  s1 -= 1\n",
        "\n",
        "  if(i%2==0):\n",
        "    for j in range(0, s2):\n",
        "      print(' ', end= '') #space\n",
        "    s2-=2\n",
        "    for j in range(0, i+1):\n",
        "      print('2', end= '')\n",
        "    print('')\n",
        "  else:\n",
        "    for j in range(0, i+1):\n",
        "      print('2', end= '')\n",
        "    for j in range(0, s2+1):\n",
        "      print(' ', end='') #space\n",
        "    print('')"
      ],
      "metadata": {
        "colab": {
          "base_uri": "https://localhost:8080/"
        },
        "id": "TvCvd7McAUkF",
        "outputId": "d3efdcd6-eabb-4d01-9c2a-21938bd71fb5"
      },
      "execution_count": 266,
      "outputs": [
        {
          "output_type": "stream",
          "name": "stdout",
          "text": [
            "    *qqqqq\n",
            "   **qqqq\n",
            "  ***qqq\n",
            " ****qq\n",
            "*****q\n",
            "o        2\n",
            "oo   22   \n",
            "ooo    222\n",
            "oooo 2222 \n",
            "ooooo22222\n"
          ]
        }
      ]
    },
    {
      "cell_type": "code",
      "source": [
        "a = 5\n",
        "s = a - 1 # untuk spasi\n",
        "for i in range(0, a):\n",
        "  for j in range(0, s):\n",
        "    print(' ', end= '')\n",
        "  s-=1\n",
        "\n",
        "  for j in range(0, i+1):\n",
        "    print('*', end= '')\n",
        "  print('')"
      ],
      "metadata": {
        "colab": {
          "base_uri": "https://localhost:8080/"
        },
        "id": "Qjn0hmPrC-ZU",
        "outputId": "af84efe5-03e9-48a4-e2fb-7ced5c81b589"
      },
      "execution_count": 247,
      "outputs": [
        {
          "output_type": "stream",
          "name": "stdout",
          "text": [
            "    *\n",
            "   **\n",
            "  ***\n",
            " ****\n",
            "*****\n"
          ]
        }
      ]
    },
    {
      "cell_type": "code",
      "source": [
        "a = 5\n",
        "s = a - 1 # untuk spasi\n",
        "for i in range(0, a):\n",
        "  for j in range(0, a):\n",
        "    print('q', end= '')\n",
        "  a -= 1\n",
        "  print('')"
      ],
      "metadata": {
        "colab": {
          "base_uri": "https://localhost:8080/"
        },
        "outputId": "a921200f-d6eb-42ca-af34-43df8746fb23",
        "id": "ov4lGBmoDJzP"
      },
      "execution_count": 248,
      "outputs": [
        {
          "output_type": "stream",
          "name": "stdout",
          "text": [
            "qqqqq\n",
            "qqqq\n",
            "qqq\n",
            "qq\n",
            "q\n"
          ]
        }
      ]
    },
    {
      "cell_type": "code",
      "source": [
        "\n",
        "b = 5\n",
        "s1 = b - 1 # untuk spasi blok 1\n",
        "for i in range(0, b):\n",
        "  for j in range(0, i+1):\n",
        "    print('o', end= '')\n",
        "  for j in range(0, s1):\n",
        "    print(' ', end= '') #space\n",
        "  s1 -= 1\n",
        "  print('')"
      ],
      "metadata": {
        "colab": {
          "base_uri": "https://localhost:8080/"
        },
        "id": "zzEx0RrcDTO_",
        "outputId": "e89bac9f-d4b2-4841-8567-e85ae7036191"
      },
      "execution_count": 249,
      "outputs": [
        {
          "output_type": "stream",
          "name": "stdout",
          "text": [
            "o    \n",
            "oo   \n",
            "ooo  \n",
            "oooo \n",
            "ooooo\n"
          ]
        }
      ]
    },
    {
      "cell_type": "code",
      "source": [
        "b = 5\n",
        "s2 = b - 1 # untuk spasi blok 2\n",
        "for i in range(0, b):\n",
        "  if(i%2==0):\n",
        "    for j in range(0, s2):\n",
        "      print(' ', end= '') #space\n",
        "    s2-=2\n",
        "    for j in range(0, i+1):\n",
        "      print('2', end= '')\n",
        "    print('')\n",
        "  else:\n",
        "    for j in range(0, i+1):\n",
        "      print('2', end= '')\n",
        "    for j in range(0, s2+1):\n",
        "      print(' ', end='') #space\n",
        "    print('')"
      ],
      "metadata": {
        "colab": {
          "base_uri": "https://localhost:8080/"
        },
        "id": "6TcpuLECDnUX",
        "outputId": "31e5c494-b2fb-4744-faa6-34c554eb90ef"
      },
      "execution_count": 262,
      "outputs": [
        {
          "output_type": "stream",
          "name": "stdout",
          "text": [
            "    2\n",
            "22   \n",
            "  222\n",
            "2222 \n",
            "22222\n"
          ]
        }
      ]
    },
    {
      "cell_type": "code",
      "source": [
        "a = 5\n",
        "s = a - 1 # untuk spasi\n",
        "for i in range(0, a):\n",
        "  for j in range(0, s):\n",
        "    print(' ', end= '')\n",
        "  s-=1\n",
        "\n",
        "  for j in range(0, i+1):\n",
        "    print('*', end= '')\n",
        "\n",
        "  for j in range(0, a):\n",
        "    print('q', end= '')\n",
        "  a -= 1\n",
        "  print('')"
      ],
      "metadata": {
        "colab": {
          "base_uri": "https://localhost:8080/"
        },
        "id": "kKe84Xn3zd5Y",
        "outputId": "53798218-ed23-4f81-d97f-cf4e8c947071"
      },
      "execution_count": 252,
      "outputs": [
        {
          "output_type": "stream",
          "name": "stdout",
          "text": [
            "    *qqqqq\n",
            "   **qqqq\n",
            "  ***qqq\n",
            " ****qq\n",
            "*****q\n"
          ]
        }
      ]
    },
    {
      "cell_type": "code",
      "source": [
        "b = 5\n",
        "s1 = b - 1 # untuk spasi blok 1\n",
        "s2 = b - 1 # untuk spasi blok 2\n",
        "for i in range(0, b):\n",
        "  for j in range(0, i+1):\n",
        "    print('o', end= '')\n",
        "  for j in range(0, s1):\n",
        "    print(' ', end= '') #space\n",
        "  s1 -= 1\n",
        "\n",
        "  if(i%2==0):\n",
        "    for j in range(0, s2):\n",
        "      print(' ', end= '') #space\n",
        "    s2-=2\n",
        "    for j in range(0, i+1):\n",
        "      print('2', end= '')\n",
        "    print('')\n",
        "  else:\n",
        "    for j in range(0, i+1):\n",
        "      print('2', end= '')\n",
        "    for j in range(0, s2+1):\n",
        "      print(' ', end='') #space\n",
        "    print('')"
      ],
      "metadata": {
        "colab": {
          "base_uri": "https://localhost:8080/"
        },
        "id": "qsiTs9xgz9co",
        "outputId": "dcfbd48d-9b82-465b-ed5c-71ccca664984"
      },
      "execution_count": 253,
      "outputs": [
        {
          "output_type": "stream",
          "name": "stdout",
          "text": [
            "o        2\n",
            "oo   22   \n",
            "ooo    222\n",
            "oooo 2222 \n",
            "ooooo22222\n"
          ]
        }
      ]
    },
    {
      "cell_type": "code",
      "execution_count": 254,
      "metadata": {
        "id": "2UW7p09Dehnl",
        "colab": {
          "base_uri": "https://localhost:8080/"
        },
        "outputId": "815cbe52-8d57-42bf-d4b6-2b0fe50e34b2"
      },
      "outputs": [
        {
          "output_type": "stream",
          "name": "stdout",
          "text": [
            "0 1 2 3 4 "
          ]
        }
      ],
      "source": [
        "for i in range(5):\n",
        "    print(i, end=' ')"
      ]
    },
    {
      "cell_type": "code",
      "source": [
        "for i in range(0, 5):\n",
        "  for j in range(0, i+1):\n",
        "    print('* ', end= '')\n",
        "  print('')"
      ],
      "metadata": {
        "colab": {
          "base_uri": "https://localhost:8080/"
        },
        "id": "bIGCzCGZhlcX",
        "outputId": "a0f758a1-4479-4ae7-b7f3-9f271a06e3d9"
      },
      "execution_count": 255,
      "outputs": [
        {
          "output_type": "stream",
          "name": "stdout",
          "text": [
            "* \n",
            "* * \n",
            "* * * \n",
            "* * * * \n",
            "* * * * * \n"
          ]
        }
      ]
    },
    {
      "cell_type": "code",
      "source": [
        "a=6\n",
        "for i in range(0, a):\n",
        "  for j in range(0, a-1):\n",
        "    print('* ', end= '')\n",
        "  a -= 1\n",
        "  print('')"
      ],
      "metadata": {
        "colab": {
          "base_uri": "https://localhost:8080/"
        },
        "id": "_ibe9soLoF6I",
        "outputId": "b04b6e71-f999-4da8-b6aa-5c794e6af1f8"
      },
      "execution_count": 256,
      "outputs": [
        {
          "output_type": "stream",
          "name": "stdout",
          "text": [
            "* * * * * \n",
            "* * * * \n",
            "* * * \n",
            "* * \n",
            "* \n",
            "\n"
          ]
        }
      ]
    },
    {
      "cell_type": "code",
      "source": [
        "a = 5\n",
        "s = 2 * a - 2 # untuk spasi\n",
        "for i in range(0, a):\n",
        "  for j in range(0, s):\n",
        "    print(' ', end= '')\n",
        "  s-=2\n",
        "  for j in range(0, i+1):\n",
        "    print('* ', end= '')\n",
        "  print('')"
      ],
      "metadata": {
        "colab": {
          "base_uri": "https://localhost:8080/"
        },
        "id": "3yzZ83pSoZiZ",
        "outputId": "17d351fc-5dd9-40a1-a2d2-4a1e5eac7dc1"
      },
      "execution_count": 257,
      "outputs": [
        {
          "output_type": "stream",
          "name": "stdout",
          "text": [
            "        * \n",
            "      * * \n",
            "    * * * \n",
            "  * * * * \n",
            "* * * * * \n"
          ]
        }
      ]
    },
    {
      "cell_type": "code",
      "source": [
        "a = 5\n",
        "s = 0 # untuk spasi\n",
        "for i in range(0, a):\n",
        "  for j in range(0, s):\n",
        "    # print(j, end='')\n",
        "    print(' ', end= '')\n",
        "  s += 2\n",
        "  for j in range(0, a):\n",
        "    print('* ', end= '')\n",
        "  a -= 1\n",
        "  print('')"
      ],
      "metadata": {
        "colab": {
          "base_uri": "https://localhost:8080/"
        },
        "id": "N3FXqgJypE-Q",
        "outputId": "5da9c605-c071-4ae1-f576-b1fd6f40149c"
      },
      "execution_count": 258,
      "outputs": [
        {
          "output_type": "stream",
          "name": "stdout",
          "text": [
            "* * * * * \n",
            "  * * * * \n",
            "    * * * \n",
            "      * * \n",
            "        * \n"
          ]
        }
      ]
    },
    {
      "cell_type": "code",
      "source": [
        "a = 5\n",
        "s = a-1 # untuk spasi\n",
        "for i in range(0, a):\n",
        "  for j in range(0, s):\n",
        "    print(' ', end= '')\n",
        "  s -= 1\n",
        "  for j in range(0, i+1):\n",
        "    print('* ', end= '')\n",
        "  print('')"
      ],
      "metadata": {
        "colab": {
          "base_uri": "https://localhost:8080/"
        },
        "id": "FhxfRjeNpyJi",
        "outputId": "b45db911-08b0-4868-8f8a-e3d5e842ddfb"
      },
      "execution_count": 259,
      "outputs": [
        {
          "output_type": "stream",
          "name": "stdout",
          "text": [
            "    * \n",
            "   * * \n",
            "  * * * \n",
            " * * * * \n",
            "* * * * * \n"
          ]
        }
      ]
    },
    {
      "cell_type": "code",
      "source": [
        "a = 5\n",
        "s = 0 # untuk spasi\n",
        "for i in range(0, a):\n",
        "  for j in range(0, s):\n",
        "    print(' ', end= '')\n",
        "  s += 1\n",
        "  for j in range(0, a):\n",
        "    print('* ', end= '')\n",
        "  a -= 1\n",
        "  print('')"
      ],
      "metadata": {
        "colab": {
          "base_uri": "https://localhost:8080/"
        },
        "id": "in-eQsYlqet4",
        "outputId": "a922c614-9b6e-4c26-c183-5c61ce1f712b"
      },
      "execution_count": 260,
      "outputs": [
        {
          "output_type": "stream",
          "name": "stdout",
          "text": [
            "* * * * * \n",
            " * * * * \n",
            "  * * * \n",
            "   * * \n",
            "    * \n"
          ]
        }
      ]
    }
  ]
}