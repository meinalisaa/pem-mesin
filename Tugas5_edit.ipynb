{
  "nbformat": 4,
  "nbformat_minor": 0,
  "metadata": {
    "colab": {
      "name": "Tugas5-edit2.ipynb",
      "provenance": [],
      "authorship_tag": "ABX9TyMhZzYcR9IWZ3TL184l9mWF",
      "include_colab_link": true
    },
    "kernelspec": {
      "name": "python3",
      "display_name": "Python 3"
    },
    "language_info": {
      "name": "python"
    }
  },
  "cells": [
    {
      "cell_type": "markdown",
      "metadata": {
        "id": "view-in-github",
        "colab_type": "text"
      },
      "source": [
        "<a href=\"https://colab.research.google.com/github/meinalisaa/pem-mesin/blob/main/Tugas5_edit2.ipynb\" target=\"_parent\"><img src=\"https://colab.research.google.com/assets/colab-badge.svg\" alt=\"Open In Colab\"/></a>"
      ]
    },
    {
      "cell_type": "markdown",
      "source": [
        "### Tugas 5 Lab Pembelajaran Mesin\n",
        "* Nama : Meina Lisa\n",
        "* NIM : 191402032\n",
        "* Kom : B, Teknologi Informasi"
      ],
      "metadata": {
        "id": "RrVH-IecjT06"
      }
    },
    {
      "cell_type": "code",
      "execution_count": 65,
      "metadata": {
        "colab": {
          "base_uri": "https://localhost:8080/",
          "height": 490
        },
        "id": "dyd0bWzmcNlE",
        "outputId": "17040201-5ed0-4037-9d23-61a3f206b871"
      },
      "outputs": [
        {
          "output_type": "execute_result",
          "data": {
            "text/plain": [
              "   Treatments  Sprouting  Height_30days  Height_60days  Height_90days  \\\n",
              "0          T1      14.22          24.77          50.12          57.67   \n",
              "1          T2      13.81          26.74          53.04          61.12   \n",
              "2          T3      13.92          28.03          54.25          61.40   \n",
              "3          T4      13.80          28.09          54.28          61.55   \n",
              "4          T5      13.83          28.15          54.36          61.67   \n",
              "5          T6      13.50          28.18          54.42          61.72   \n",
              "6          T7      13.62          29.04          56.14          63.07   \n",
              "7          T8      13.61          29.08          56.18          63.12   \n",
              "8          T9      12.91          31.53          57.41          65.96   \n",
              "9         T10      12.90          31.55          57.47          65.98   \n",
              "10        T11      13.01          30.64          56.86          64.72   \n",
              "11        T12      12.99          30.68          56.94          64.81   \n",
              "\n",
              "    No_of_leaves_30  No_of_leaves_60  No_of_leaves_90  Leaf_area(cm2)  \\\n",
              "0              9.61            12.69            24.12          923.11   \n",
              "1             10.52            14.32            25.78         1041.09   \n",
              "2             10.48            14.28            25.65         1222.68   \n",
              "3             10.54            13.72            25.15         1224.12   \n",
              "4             10.92            14.41            26.39         1179.18   \n",
              "5             10.93            14.44            26.42         1182.79   \n",
              "6             12.33            15.62            27.66         1354.18   \n",
              "7             12.35            15.63            27.71         1355.04   \n",
              "8             12.72            18.53            29.15         1512.76   \n",
              "9             12.74            18.56            29.25         1516.06   \n",
              "10            12.31            17.48            28.16         1423.21   \n",
              "11            12.34            17.55            28.51         1424.06   \n",
              "\n",
              "    spike_emergence  spikes   Length_of_spike  Length_of_Rachis  florets  \\\n",
              "0             82.12     1.25            86.18             28.20    40.67   \n",
              "1             81.21     1.29            88.28             29.27    43.71   \n",
              "2             80.04     1.62            90.75             29.75    45.73   \n",
              "3             80.06     1.63            90.77             29.82    45.78   \n",
              "4             78.18     1.95            93.25             30.55    47.62   \n",
              "5             78.02     1.96            93.29             30.58    47.71   \n",
              "6             76.98     2.07            94.87             31.82    48.02   \n",
              "7             76.86     2.10            94.92             31.87    48.06   \n",
              "8             74.12     3.40            98.98             33.87    51.81   \n",
              "9             74.06     3.52            99.02             33.92    51.96   \n",
              "10            74.98     3.12            98.42             32.91    50.82   \n",
              "11            74.87     3.15            98.51             32.96    50.94   \n",
              "\n",
              "    Diameter   Flower_durations  \n",
              "0        3.35             14.37  \n",
              "1        3.95             15.00  \n",
              "2        4.35             15.45  \n",
              "3        4.37             15.60  \n",
              "4        4.41             16.25  \n",
              "5        4.43             16.35  \n",
              "6        4.46             17.02  \n",
              "7        4.49             17.25  \n",
              "8        4.96             19.78  \n",
              "9        4.98             19.95  \n",
              "10       4.57             18.52  \n",
              "11       4.60             18.60  "
            ],
            "text/html": [
              "\n",
              "  <div id=\"df-0087f13e-0f66-43de-beb5-ade7e16c8d0b\">\n",
              "    <div class=\"colab-df-container\">\n",
              "      <div>\n",
              "<style scoped>\n",
              "    .dataframe tbody tr th:only-of-type {\n",
              "        vertical-align: middle;\n",
              "    }\n",
              "\n",
              "    .dataframe tbody tr th {\n",
              "        vertical-align: top;\n",
              "    }\n",
              "\n",
              "    .dataframe thead th {\n",
              "        text-align: right;\n",
              "    }\n",
              "</style>\n",
              "<table border=\"1\" class=\"dataframe\">\n",
              "  <thead>\n",
              "    <tr style=\"text-align: right;\">\n",
              "      <th></th>\n",
              "      <th>Treatments</th>\n",
              "      <th>Sprouting</th>\n",
              "      <th>Height_30days</th>\n",
              "      <th>Height_60days</th>\n",
              "      <th>Height_90days</th>\n",
              "      <th>No_of_leaves_30</th>\n",
              "      <th>No_of_leaves_60</th>\n",
              "      <th>No_of_leaves_90</th>\n",
              "      <th>Leaf_area(cm2)</th>\n",
              "      <th>spike_emergence</th>\n",
              "      <th>spikes</th>\n",
              "      <th>Length_of_spike</th>\n",
              "      <th>Length_of_Rachis</th>\n",
              "      <th>florets</th>\n",
              "      <th>Diameter</th>\n",
              "      <th>Flower_durations</th>\n",
              "    </tr>\n",
              "  </thead>\n",
              "  <tbody>\n",
              "    <tr>\n",
              "      <th>0</th>\n",
              "      <td>T1</td>\n",
              "      <td>14.22</td>\n",
              "      <td>24.77</td>\n",
              "      <td>50.12</td>\n",
              "      <td>57.67</td>\n",
              "      <td>9.61</td>\n",
              "      <td>12.69</td>\n",
              "      <td>24.12</td>\n",
              "      <td>923.11</td>\n",
              "      <td>82.12</td>\n",
              "      <td>1.25</td>\n",
              "      <td>86.18</td>\n",
              "      <td>28.20</td>\n",
              "      <td>40.67</td>\n",
              "      <td>3.35</td>\n",
              "      <td>14.37</td>\n",
              "    </tr>\n",
              "    <tr>\n",
              "      <th>1</th>\n",
              "      <td>T2</td>\n",
              "      <td>13.81</td>\n",
              "      <td>26.74</td>\n",
              "      <td>53.04</td>\n",
              "      <td>61.12</td>\n",
              "      <td>10.52</td>\n",
              "      <td>14.32</td>\n",
              "      <td>25.78</td>\n",
              "      <td>1041.09</td>\n",
              "      <td>81.21</td>\n",
              "      <td>1.29</td>\n",
              "      <td>88.28</td>\n",
              "      <td>29.27</td>\n",
              "      <td>43.71</td>\n",
              "      <td>3.95</td>\n",
              "      <td>15.00</td>\n",
              "    </tr>\n",
              "    <tr>\n",
              "      <th>2</th>\n",
              "      <td>T3</td>\n",
              "      <td>13.92</td>\n",
              "      <td>28.03</td>\n",
              "      <td>54.25</td>\n",
              "      <td>61.40</td>\n",
              "      <td>10.48</td>\n",
              "      <td>14.28</td>\n",
              "      <td>25.65</td>\n",
              "      <td>1222.68</td>\n",
              "      <td>80.04</td>\n",
              "      <td>1.62</td>\n",
              "      <td>90.75</td>\n",
              "      <td>29.75</td>\n",
              "      <td>45.73</td>\n",
              "      <td>4.35</td>\n",
              "      <td>15.45</td>\n",
              "    </tr>\n",
              "    <tr>\n",
              "      <th>3</th>\n",
              "      <td>T4</td>\n",
              "      <td>13.80</td>\n",
              "      <td>28.09</td>\n",
              "      <td>54.28</td>\n",
              "      <td>61.55</td>\n",
              "      <td>10.54</td>\n",
              "      <td>13.72</td>\n",
              "      <td>25.15</td>\n",
              "      <td>1224.12</td>\n",
              "      <td>80.06</td>\n",
              "      <td>1.63</td>\n",
              "      <td>90.77</td>\n",
              "      <td>29.82</td>\n",
              "      <td>45.78</td>\n",
              "      <td>4.37</td>\n",
              "      <td>15.60</td>\n",
              "    </tr>\n",
              "    <tr>\n",
              "      <th>4</th>\n",
              "      <td>T5</td>\n",
              "      <td>13.83</td>\n",
              "      <td>28.15</td>\n",
              "      <td>54.36</td>\n",
              "      <td>61.67</td>\n",
              "      <td>10.92</td>\n",
              "      <td>14.41</td>\n",
              "      <td>26.39</td>\n",
              "      <td>1179.18</td>\n",
              "      <td>78.18</td>\n",
              "      <td>1.95</td>\n",
              "      <td>93.25</td>\n",
              "      <td>30.55</td>\n",
              "      <td>47.62</td>\n",
              "      <td>4.41</td>\n",
              "      <td>16.25</td>\n",
              "    </tr>\n",
              "    <tr>\n",
              "      <th>5</th>\n",
              "      <td>T6</td>\n",
              "      <td>13.50</td>\n",
              "      <td>28.18</td>\n",
              "      <td>54.42</td>\n",
              "      <td>61.72</td>\n",
              "      <td>10.93</td>\n",
              "      <td>14.44</td>\n",
              "      <td>26.42</td>\n",
              "      <td>1182.79</td>\n",
              "      <td>78.02</td>\n",
              "      <td>1.96</td>\n",
              "      <td>93.29</td>\n",
              "      <td>30.58</td>\n",
              "      <td>47.71</td>\n",
              "      <td>4.43</td>\n",
              "      <td>16.35</td>\n",
              "    </tr>\n",
              "    <tr>\n",
              "      <th>6</th>\n",
              "      <td>T7</td>\n",
              "      <td>13.62</td>\n",
              "      <td>29.04</td>\n",
              "      <td>56.14</td>\n",
              "      <td>63.07</td>\n",
              "      <td>12.33</td>\n",
              "      <td>15.62</td>\n",
              "      <td>27.66</td>\n",
              "      <td>1354.18</td>\n",
              "      <td>76.98</td>\n",
              "      <td>2.07</td>\n",
              "      <td>94.87</td>\n",
              "      <td>31.82</td>\n",
              "      <td>48.02</td>\n",
              "      <td>4.46</td>\n",
              "      <td>17.02</td>\n",
              "    </tr>\n",
              "    <tr>\n",
              "      <th>7</th>\n",
              "      <td>T8</td>\n",
              "      <td>13.61</td>\n",
              "      <td>29.08</td>\n",
              "      <td>56.18</td>\n",
              "      <td>63.12</td>\n",
              "      <td>12.35</td>\n",
              "      <td>15.63</td>\n",
              "      <td>27.71</td>\n",
              "      <td>1355.04</td>\n",
              "      <td>76.86</td>\n",
              "      <td>2.10</td>\n",
              "      <td>94.92</td>\n",
              "      <td>31.87</td>\n",
              "      <td>48.06</td>\n",
              "      <td>4.49</td>\n",
              "      <td>17.25</td>\n",
              "    </tr>\n",
              "    <tr>\n",
              "      <th>8</th>\n",
              "      <td>T9</td>\n",
              "      <td>12.91</td>\n",
              "      <td>31.53</td>\n",
              "      <td>57.41</td>\n",
              "      <td>65.96</td>\n",
              "      <td>12.72</td>\n",
              "      <td>18.53</td>\n",
              "      <td>29.15</td>\n",
              "      <td>1512.76</td>\n",
              "      <td>74.12</td>\n",
              "      <td>3.40</td>\n",
              "      <td>98.98</td>\n",
              "      <td>33.87</td>\n",
              "      <td>51.81</td>\n",
              "      <td>4.96</td>\n",
              "      <td>19.78</td>\n",
              "    </tr>\n",
              "    <tr>\n",
              "      <th>9</th>\n",
              "      <td>T10</td>\n",
              "      <td>12.90</td>\n",
              "      <td>31.55</td>\n",
              "      <td>57.47</td>\n",
              "      <td>65.98</td>\n",
              "      <td>12.74</td>\n",
              "      <td>18.56</td>\n",
              "      <td>29.25</td>\n",
              "      <td>1516.06</td>\n",
              "      <td>74.06</td>\n",
              "      <td>3.52</td>\n",
              "      <td>99.02</td>\n",
              "      <td>33.92</td>\n",
              "      <td>51.96</td>\n",
              "      <td>4.98</td>\n",
              "      <td>19.95</td>\n",
              "    </tr>\n",
              "    <tr>\n",
              "      <th>10</th>\n",
              "      <td>T11</td>\n",
              "      <td>13.01</td>\n",
              "      <td>30.64</td>\n",
              "      <td>56.86</td>\n",
              "      <td>64.72</td>\n",
              "      <td>12.31</td>\n",
              "      <td>17.48</td>\n",
              "      <td>28.16</td>\n",
              "      <td>1423.21</td>\n",
              "      <td>74.98</td>\n",
              "      <td>3.12</td>\n",
              "      <td>98.42</td>\n",
              "      <td>32.91</td>\n",
              "      <td>50.82</td>\n",
              "      <td>4.57</td>\n",
              "      <td>18.52</td>\n",
              "    </tr>\n",
              "    <tr>\n",
              "      <th>11</th>\n",
              "      <td>T12</td>\n",
              "      <td>12.99</td>\n",
              "      <td>30.68</td>\n",
              "      <td>56.94</td>\n",
              "      <td>64.81</td>\n",
              "      <td>12.34</td>\n",
              "      <td>17.55</td>\n",
              "      <td>28.51</td>\n",
              "      <td>1424.06</td>\n",
              "      <td>74.87</td>\n",
              "      <td>3.15</td>\n",
              "      <td>98.51</td>\n",
              "      <td>32.96</td>\n",
              "      <td>50.94</td>\n",
              "      <td>4.60</td>\n",
              "      <td>18.60</td>\n",
              "    </tr>\n",
              "  </tbody>\n",
              "</table>\n",
              "</div>\n",
              "      <button class=\"colab-df-convert\" onclick=\"convertToInteractive('df-0087f13e-0f66-43de-beb5-ade7e16c8d0b')\"\n",
              "              title=\"Convert this dataframe to an interactive table.\"\n",
              "              style=\"display:none;\">\n",
              "        \n",
              "  <svg xmlns=\"http://www.w3.org/2000/svg\" height=\"24px\"viewBox=\"0 0 24 24\"\n",
              "       width=\"24px\">\n",
              "    <path d=\"M0 0h24v24H0V0z\" fill=\"none\"/>\n",
              "    <path d=\"M18.56 5.44l.94 2.06.94-2.06 2.06-.94-2.06-.94-.94-2.06-.94 2.06-2.06.94zm-11 1L8.5 8.5l.94-2.06 2.06-.94-2.06-.94L8.5 2.5l-.94 2.06-2.06.94zm10 10l.94 2.06.94-2.06 2.06-.94-2.06-.94-.94-2.06-.94 2.06-2.06.94z\"/><path d=\"M17.41 7.96l-1.37-1.37c-.4-.4-.92-.59-1.43-.59-.52 0-1.04.2-1.43.59L10.3 9.45l-7.72 7.72c-.78.78-.78 2.05 0 2.83L4 21.41c.39.39.9.59 1.41.59.51 0 1.02-.2 1.41-.59l7.78-7.78 2.81-2.81c.8-.78.8-2.07 0-2.86zM5.41 20L4 18.59l7.72-7.72 1.47 1.35L5.41 20z\"/>\n",
              "  </svg>\n",
              "      </button>\n",
              "      \n",
              "  <style>\n",
              "    .colab-df-container {\n",
              "      display:flex;\n",
              "      flex-wrap:wrap;\n",
              "      gap: 12px;\n",
              "    }\n",
              "\n",
              "    .colab-df-convert {\n",
              "      background-color: #E8F0FE;\n",
              "      border: none;\n",
              "      border-radius: 50%;\n",
              "      cursor: pointer;\n",
              "      display: none;\n",
              "      fill: #1967D2;\n",
              "      height: 32px;\n",
              "      padding: 0 0 0 0;\n",
              "      width: 32px;\n",
              "    }\n",
              "\n",
              "    .colab-df-convert:hover {\n",
              "      background-color: #E2EBFA;\n",
              "      box-shadow: 0px 1px 2px rgba(60, 64, 67, 0.3), 0px 1px 3px 1px rgba(60, 64, 67, 0.15);\n",
              "      fill: #174EA6;\n",
              "    }\n",
              "\n",
              "    [theme=dark] .colab-df-convert {\n",
              "      background-color: #3B4455;\n",
              "      fill: #D2E3FC;\n",
              "    }\n",
              "\n",
              "    [theme=dark] .colab-df-convert:hover {\n",
              "      background-color: #434B5C;\n",
              "      box-shadow: 0px 1px 3px 1px rgba(0, 0, 0, 0.15);\n",
              "      filter: drop-shadow(0px 1px 2px rgba(0, 0, 0, 0.3));\n",
              "      fill: #FFFFFF;\n",
              "    }\n",
              "  </style>\n",
              "\n",
              "      <script>\n",
              "        const buttonEl =\n",
              "          document.querySelector('#df-0087f13e-0f66-43de-beb5-ade7e16c8d0b button.colab-df-convert');\n",
              "        buttonEl.style.display =\n",
              "          google.colab.kernel.accessAllowed ? 'block' : 'none';\n",
              "\n",
              "        async function convertToInteractive(key) {\n",
              "          const element = document.querySelector('#df-0087f13e-0f66-43de-beb5-ade7e16c8d0b');\n",
              "          const dataTable =\n",
              "            await google.colab.kernel.invokeFunction('convertToInteractive',\n",
              "                                                     [key], {});\n",
              "          if (!dataTable) return;\n",
              "\n",
              "          const docLinkHtml = 'Like what you see? Visit the ' +\n",
              "            '<a target=\"_blank\" href=https://colab.research.google.com/notebooks/data_table.ipynb>data table notebook</a>'\n",
              "            + ' to learn more about interactive tables.';\n",
              "          element.innerHTML = '';\n",
              "          dataTable['output_type'] = 'display_data';\n",
              "          await google.colab.output.renderOutput(dataTable, element);\n",
              "          const docLink = document.createElement('div');\n",
              "          docLink.innerHTML = docLinkHtml;\n",
              "          element.appendChild(docLink);\n",
              "        }\n",
              "      </script>\n",
              "    </div>\n",
              "  </div>\n",
              "  "
            ]
          },
          "metadata": {},
          "execution_count": 65
        }
      ],
      "source": [
        "# 1. Silakan cari dataset dengan kolom minimal 8 kolom\n",
        "# https://www.kaggle.com/datasets/vipin20/flower\n",
        "# /content/sample_data/Tuberose Flower.csv\n",
        "\n",
        "# import library,\n",
        "from matplotlib import pyplot as plt\n",
        "import seaborn as sns\n",
        "import pandas as pd\n",
        "import numpy as np\n",
        "\n",
        "# read dataset, \n",
        "df1 = pd.read_csv('/content/sample_data/Tuberose Flower.csv')\n",
        "df1"
      ]
    },
    {
      "cell_type": "code",
      "source": [
        "# 2. Lakukan Pre-processing\n",
        "df1.info()"
      ],
      "metadata": {
        "colab": {
          "base_uri": "https://localhost:8080/"
        },
        "id": "58WcmC1Vc2Wk",
        "outputId": "069dd570-d656-401e-844d-e1f06e583948"
      },
      "execution_count": 66,
      "outputs": [
        {
          "output_type": "stream",
          "name": "stdout",
          "text": [
            "<class 'pandas.core.frame.DataFrame'>\n",
            "RangeIndex: 12 entries, 0 to 11\n",
            "Data columns (total 16 columns):\n",
            " #   Column            Non-Null Count  Dtype  \n",
            "---  ------            --------------  -----  \n",
            " 0   Treatments        12 non-null     object \n",
            " 1   Sprouting         12 non-null     float64\n",
            " 2   Height_30days     12 non-null     float64\n",
            " 3   Height_60days     12 non-null     float64\n",
            " 4   Height_90days     12 non-null     float64\n",
            " 5   No_of_leaves_30   12 non-null     float64\n",
            " 6   No_of_leaves_60   12 non-null     float64\n",
            " 7   No_of_leaves_90   12 non-null     float64\n",
            " 8   Leaf_area(cm2)    12 non-null     float64\n",
            " 9   spike_emergence   12 non-null     float64\n",
            " 10  spikes            12 non-null     float64\n",
            " 11  Length_of_spike   12 non-null     float64\n",
            " 12  Length_of_Rachis  12 non-null     float64\n",
            " 13  florets           12 non-null     float64\n",
            " 14  Diameter          12 non-null     float64\n",
            " 15  Flower_durations  12 non-null     float64\n",
            "dtypes: float64(15), object(1)\n",
            "memory usage: 1.6+ KB\n"
          ]
        }
      ]
    },
    {
      "cell_type": "code",
      "source": [
        "df1.isnull().sum()"
      ],
      "metadata": {
        "colab": {
          "base_uri": "https://localhost:8080/"
        },
        "id": "pKzLQnRLc3aP",
        "outputId": "7a39ecd1-9628-442e-ea56-f754f3d7720d"
      },
      "execution_count": 67,
      "outputs": [
        {
          "output_type": "execute_result",
          "data": {
            "text/plain": [
              "Treatments          0\n",
              "Sprouting           0\n",
              "Height_30days       0\n",
              "Height_60days       0\n",
              "Height_90days       0\n",
              "No_of_leaves_30     0\n",
              "No_of_leaves_60     0\n",
              "No_of_leaves_90     0\n",
              "Leaf_area(cm2)      0\n",
              "spike_emergence     0\n",
              "spikes              0\n",
              "Length_of_spike     0\n",
              "Length_of_Rachis    0\n",
              "florets             0\n",
              "Diameter            0\n",
              "Flower_durations    0\n",
              "dtype: int64"
            ]
          },
          "metadata": {},
          "execution_count": 67
        }
      ]
    },
    {
      "cell_type": "code",
      "source": [
        "df1.describe()"
      ],
      "metadata": {
        "colab": {
          "base_uri": "https://localhost:8080/",
          "height": 364
        },
        "id": "vMIEmNQyc5ZM",
        "outputId": "63799ed6-1ae1-4a27-a327-d90d0c6702bf"
      },
      "execution_count": 68,
      "outputs": [
        {
          "output_type": "execute_result",
          "data": {
            "text/plain": [
              "       Sprouting  Height_30days  Height_60days  Height_90days  \\\n",
              "count  12.000000      12.000000      12.000000      12.000000   \n",
              "mean   13.510000      28.873333      55.122500      62.732500   \n",
              "std     0.449586       2.008963       2.155902       2.394126   \n",
              "min    12.900000      24.770000      50.120000      57.670000   \n",
              "25%    13.005000      28.075000      54.272500      61.512500   \n",
              "50%    13.615000      28.610000      55.280000      62.395000   \n",
              "75%    13.815000      30.650000      56.880000      64.742500   \n",
              "max    14.220000      31.550000      57.470000      65.980000   \n",
              "\n",
              "       No_of_leaves_30  No_of_leaves_60  No_of_leaves_90  Leaf_area(cm2)  \\\n",
              "count        12.000000        12.000000        12.000000       12.000000   \n",
              "mean         11.482500        15.602500        26.995833     1279.856667   \n",
              "std           1.085073         1.973221         1.651074      184.087042   \n",
              "min           9.610000        12.690000        24.120000      923.110000   \n",
              "25%          10.535000        14.310000        25.747500     1181.887500   \n",
              "50%          11.620000        15.030000        27.040000     1289.150000   \n",
              "75%          12.342500        17.497500        28.247500     1423.422500   \n",
              "max          12.740000        18.560000        29.250000     1516.060000   \n",
              "\n",
              "       spike_emergence    spikes   Length_of_spike  Length_of_Rachis  \\\n",
              "count        12.000000  12.000000        12.000000         12.000000   \n",
              "mean         77.625000   2.255000        93.936667         31.293333   \n",
              "std           2.793894   0.822076         4.341818          1.878502   \n",
              "min          74.060000   1.250000        86.180000         28.200000   \n",
              "25%          74.952500   1.627500        90.765000         29.802500   \n",
              "50%          77.500000   2.015000        94.080000         31.200000   \n",
              "75%          80.045000   3.127500        98.442500         32.922500   \n",
              "max          82.120000   3.520000        99.020000         33.920000   \n",
              "\n",
              "         florets  Diameter   Flower_durations  \n",
              "count  12.000000  12.000000         12.000000  \n",
              "mean   47.735833   4.410000         17.011667  \n",
              "std     3.416578   0.430518          1.849495  \n",
              "min    40.670000   3.350000         14.370000  \n",
              "25%    45.767500   4.365000         15.562500  \n",
              "50%    47.865000   4.445000         16.685000  \n",
              "75%    50.850000   4.577500         18.540000  \n",
              "max    51.960000   4.980000         19.950000  "
            ],
            "text/html": [
              "\n",
              "  <div id=\"df-ab6f3421-7afb-4cc2-928e-03bf5d98d26f\">\n",
              "    <div class=\"colab-df-container\">\n",
              "      <div>\n",
              "<style scoped>\n",
              "    .dataframe tbody tr th:only-of-type {\n",
              "        vertical-align: middle;\n",
              "    }\n",
              "\n",
              "    .dataframe tbody tr th {\n",
              "        vertical-align: top;\n",
              "    }\n",
              "\n",
              "    .dataframe thead th {\n",
              "        text-align: right;\n",
              "    }\n",
              "</style>\n",
              "<table border=\"1\" class=\"dataframe\">\n",
              "  <thead>\n",
              "    <tr style=\"text-align: right;\">\n",
              "      <th></th>\n",
              "      <th>Sprouting</th>\n",
              "      <th>Height_30days</th>\n",
              "      <th>Height_60days</th>\n",
              "      <th>Height_90days</th>\n",
              "      <th>No_of_leaves_30</th>\n",
              "      <th>No_of_leaves_60</th>\n",
              "      <th>No_of_leaves_90</th>\n",
              "      <th>Leaf_area(cm2)</th>\n",
              "      <th>spike_emergence</th>\n",
              "      <th>spikes</th>\n",
              "      <th>Length_of_spike</th>\n",
              "      <th>Length_of_Rachis</th>\n",
              "      <th>florets</th>\n",
              "      <th>Diameter</th>\n",
              "      <th>Flower_durations</th>\n",
              "    </tr>\n",
              "  </thead>\n",
              "  <tbody>\n",
              "    <tr>\n",
              "      <th>count</th>\n",
              "      <td>12.000000</td>\n",
              "      <td>12.000000</td>\n",
              "      <td>12.000000</td>\n",
              "      <td>12.000000</td>\n",
              "      <td>12.000000</td>\n",
              "      <td>12.000000</td>\n",
              "      <td>12.000000</td>\n",
              "      <td>12.000000</td>\n",
              "      <td>12.000000</td>\n",
              "      <td>12.000000</td>\n",
              "      <td>12.000000</td>\n",
              "      <td>12.000000</td>\n",
              "      <td>12.000000</td>\n",
              "      <td>12.000000</td>\n",
              "      <td>12.000000</td>\n",
              "    </tr>\n",
              "    <tr>\n",
              "      <th>mean</th>\n",
              "      <td>13.510000</td>\n",
              "      <td>28.873333</td>\n",
              "      <td>55.122500</td>\n",
              "      <td>62.732500</td>\n",
              "      <td>11.482500</td>\n",
              "      <td>15.602500</td>\n",
              "      <td>26.995833</td>\n",
              "      <td>1279.856667</td>\n",
              "      <td>77.625000</td>\n",
              "      <td>2.255000</td>\n",
              "      <td>93.936667</td>\n",
              "      <td>31.293333</td>\n",
              "      <td>47.735833</td>\n",
              "      <td>4.410000</td>\n",
              "      <td>17.011667</td>\n",
              "    </tr>\n",
              "    <tr>\n",
              "      <th>std</th>\n",
              "      <td>0.449586</td>\n",
              "      <td>2.008963</td>\n",
              "      <td>2.155902</td>\n",
              "      <td>2.394126</td>\n",
              "      <td>1.085073</td>\n",
              "      <td>1.973221</td>\n",
              "      <td>1.651074</td>\n",
              "      <td>184.087042</td>\n",
              "      <td>2.793894</td>\n",
              "      <td>0.822076</td>\n",
              "      <td>4.341818</td>\n",
              "      <td>1.878502</td>\n",
              "      <td>3.416578</td>\n",
              "      <td>0.430518</td>\n",
              "      <td>1.849495</td>\n",
              "    </tr>\n",
              "    <tr>\n",
              "      <th>min</th>\n",
              "      <td>12.900000</td>\n",
              "      <td>24.770000</td>\n",
              "      <td>50.120000</td>\n",
              "      <td>57.670000</td>\n",
              "      <td>9.610000</td>\n",
              "      <td>12.690000</td>\n",
              "      <td>24.120000</td>\n",
              "      <td>923.110000</td>\n",
              "      <td>74.060000</td>\n",
              "      <td>1.250000</td>\n",
              "      <td>86.180000</td>\n",
              "      <td>28.200000</td>\n",
              "      <td>40.670000</td>\n",
              "      <td>3.350000</td>\n",
              "      <td>14.370000</td>\n",
              "    </tr>\n",
              "    <tr>\n",
              "      <th>25%</th>\n",
              "      <td>13.005000</td>\n",
              "      <td>28.075000</td>\n",
              "      <td>54.272500</td>\n",
              "      <td>61.512500</td>\n",
              "      <td>10.535000</td>\n",
              "      <td>14.310000</td>\n",
              "      <td>25.747500</td>\n",
              "      <td>1181.887500</td>\n",
              "      <td>74.952500</td>\n",
              "      <td>1.627500</td>\n",
              "      <td>90.765000</td>\n",
              "      <td>29.802500</td>\n",
              "      <td>45.767500</td>\n",
              "      <td>4.365000</td>\n",
              "      <td>15.562500</td>\n",
              "    </tr>\n",
              "    <tr>\n",
              "      <th>50%</th>\n",
              "      <td>13.615000</td>\n",
              "      <td>28.610000</td>\n",
              "      <td>55.280000</td>\n",
              "      <td>62.395000</td>\n",
              "      <td>11.620000</td>\n",
              "      <td>15.030000</td>\n",
              "      <td>27.040000</td>\n",
              "      <td>1289.150000</td>\n",
              "      <td>77.500000</td>\n",
              "      <td>2.015000</td>\n",
              "      <td>94.080000</td>\n",
              "      <td>31.200000</td>\n",
              "      <td>47.865000</td>\n",
              "      <td>4.445000</td>\n",
              "      <td>16.685000</td>\n",
              "    </tr>\n",
              "    <tr>\n",
              "      <th>75%</th>\n",
              "      <td>13.815000</td>\n",
              "      <td>30.650000</td>\n",
              "      <td>56.880000</td>\n",
              "      <td>64.742500</td>\n",
              "      <td>12.342500</td>\n",
              "      <td>17.497500</td>\n",
              "      <td>28.247500</td>\n",
              "      <td>1423.422500</td>\n",
              "      <td>80.045000</td>\n",
              "      <td>3.127500</td>\n",
              "      <td>98.442500</td>\n",
              "      <td>32.922500</td>\n",
              "      <td>50.850000</td>\n",
              "      <td>4.577500</td>\n",
              "      <td>18.540000</td>\n",
              "    </tr>\n",
              "    <tr>\n",
              "      <th>max</th>\n",
              "      <td>14.220000</td>\n",
              "      <td>31.550000</td>\n",
              "      <td>57.470000</td>\n",
              "      <td>65.980000</td>\n",
              "      <td>12.740000</td>\n",
              "      <td>18.560000</td>\n",
              "      <td>29.250000</td>\n",
              "      <td>1516.060000</td>\n",
              "      <td>82.120000</td>\n",
              "      <td>3.520000</td>\n",
              "      <td>99.020000</td>\n",
              "      <td>33.920000</td>\n",
              "      <td>51.960000</td>\n",
              "      <td>4.980000</td>\n",
              "      <td>19.950000</td>\n",
              "    </tr>\n",
              "  </tbody>\n",
              "</table>\n",
              "</div>\n",
              "      <button class=\"colab-df-convert\" onclick=\"convertToInteractive('df-ab6f3421-7afb-4cc2-928e-03bf5d98d26f')\"\n",
              "              title=\"Convert this dataframe to an interactive table.\"\n",
              "              style=\"display:none;\">\n",
              "        \n",
              "  <svg xmlns=\"http://www.w3.org/2000/svg\" height=\"24px\"viewBox=\"0 0 24 24\"\n",
              "       width=\"24px\">\n",
              "    <path d=\"M0 0h24v24H0V0z\" fill=\"none\"/>\n",
              "    <path d=\"M18.56 5.44l.94 2.06.94-2.06 2.06-.94-2.06-.94-.94-2.06-.94 2.06-2.06.94zm-11 1L8.5 8.5l.94-2.06 2.06-.94-2.06-.94L8.5 2.5l-.94 2.06-2.06.94zm10 10l.94 2.06.94-2.06 2.06-.94-2.06-.94-.94-2.06-.94 2.06-2.06.94z\"/><path d=\"M17.41 7.96l-1.37-1.37c-.4-.4-.92-.59-1.43-.59-.52 0-1.04.2-1.43.59L10.3 9.45l-7.72 7.72c-.78.78-.78 2.05 0 2.83L4 21.41c.39.39.9.59 1.41.59.51 0 1.02-.2 1.41-.59l7.78-7.78 2.81-2.81c.8-.78.8-2.07 0-2.86zM5.41 20L4 18.59l7.72-7.72 1.47 1.35L5.41 20z\"/>\n",
              "  </svg>\n",
              "      </button>\n",
              "      \n",
              "  <style>\n",
              "    .colab-df-container {\n",
              "      display:flex;\n",
              "      flex-wrap:wrap;\n",
              "      gap: 12px;\n",
              "    }\n",
              "\n",
              "    .colab-df-convert {\n",
              "      background-color: #E8F0FE;\n",
              "      border: none;\n",
              "      border-radius: 50%;\n",
              "      cursor: pointer;\n",
              "      display: none;\n",
              "      fill: #1967D2;\n",
              "      height: 32px;\n",
              "      padding: 0 0 0 0;\n",
              "      width: 32px;\n",
              "    }\n",
              "\n",
              "    .colab-df-convert:hover {\n",
              "      background-color: #E2EBFA;\n",
              "      box-shadow: 0px 1px 2px rgba(60, 64, 67, 0.3), 0px 1px 3px 1px rgba(60, 64, 67, 0.15);\n",
              "      fill: #174EA6;\n",
              "    }\n",
              "\n",
              "    [theme=dark] .colab-df-convert {\n",
              "      background-color: #3B4455;\n",
              "      fill: #D2E3FC;\n",
              "    }\n",
              "\n",
              "    [theme=dark] .colab-df-convert:hover {\n",
              "      background-color: #434B5C;\n",
              "      box-shadow: 0px 1px 3px 1px rgba(0, 0, 0, 0.15);\n",
              "      filter: drop-shadow(0px 1px 2px rgba(0, 0, 0, 0.3));\n",
              "      fill: #FFFFFF;\n",
              "    }\n",
              "  </style>\n",
              "\n",
              "      <script>\n",
              "        const buttonEl =\n",
              "          document.querySelector('#df-ab6f3421-7afb-4cc2-928e-03bf5d98d26f button.colab-df-convert');\n",
              "        buttonEl.style.display =\n",
              "          google.colab.kernel.accessAllowed ? 'block' : 'none';\n",
              "\n",
              "        async function convertToInteractive(key) {\n",
              "          const element = document.querySelector('#df-ab6f3421-7afb-4cc2-928e-03bf5d98d26f');\n",
              "          const dataTable =\n",
              "            await google.colab.kernel.invokeFunction('convertToInteractive',\n",
              "                                                     [key], {});\n",
              "          if (!dataTable) return;\n",
              "\n",
              "          const docLinkHtml = 'Like what you see? Visit the ' +\n",
              "            '<a target=\"_blank\" href=https://colab.research.google.com/notebooks/data_table.ipynb>data table notebook</a>'\n",
              "            + ' to learn more about interactive tables.';\n",
              "          element.innerHTML = '';\n",
              "          dataTable['output_type'] = 'display_data';\n",
              "          await google.colab.output.renderOutput(dataTable, element);\n",
              "          const docLink = document.createElement('div');\n",
              "          docLink.innerHTML = docLinkHtml;\n",
              "          element.appendChild(docLink);\n",
              "        }\n",
              "      </script>\n",
              "    </div>\n",
              "  </div>\n",
              "  "
            ]
          },
          "metadata": {},
          "execution_count": 68
        }
      ]
    },
    {
      "cell_type": "code",
      "source": [
        "df1.describe(include=\"object\")"
      ],
      "metadata": {
        "colab": {
          "base_uri": "https://localhost:8080/",
          "height": 175
        },
        "id": "j8n2-5Amc64N",
        "outputId": "35fb461e-a221-4b2b-c36c-0d26637ad336"
      },
      "execution_count": 69,
      "outputs": [
        {
          "output_type": "execute_result",
          "data": {
            "text/plain": [
              "       Treatments\n",
              "count          12\n",
              "unique         12\n",
              "top            T1\n",
              "freq            1"
            ],
            "text/html": [
              "\n",
              "  <div id=\"df-0e401803-9a9d-4cdb-8cb5-4fd67912ee6d\">\n",
              "    <div class=\"colab-df-container\">\n",
              "      <div>\n",
              "<style scoped>\n",
              "    .dataframe tbody tr th:only-of-type {\n",
              "        vertical-align: middle;\n",
              "    }\n",
              "\n",
              "    .dataframe tbody tr th {\n",
              "        vertical-align: top;\n",
              "    }\n",
              "\n",
              "    .dataframe thead th {\n",
              "        text-align: right;\n",
              "    }\n",
              "</style>\n",
              "<table border=\"1\" class=\"dataframe\">\n",
              "  <thead>\n",
              "    <tr style=\"text-align: right;\">\n",
              "      <th></th>\n",
              "      <th>Treatments</th>\n",
              "    </tr>\n",
              "  </thead>\n",
              "  <tbody>\n",
              "    <tr>\n",
              "      <th>count</th>\n",
              "      <td>12</td>\n",
              "    </tr>\n",
              "    <tr>\n",
              "      <th>unique</th>\n",
              "      <td>12</td>\n",
              "    </tr>\n",
              "    <tr>\n",
              "      <th>top</th>\n",
              "      <td>T1</td>\n",
              "    </tr>\n",
              "    <tr>\n",
              "      <th>freq</th>\n",
              "      <td>1</td>\n",
              "    </tr>\n",
              "  </tbody>\n",
              "</table>\n",
              "</div>\n",
              "      <button class=\"colab-df-convert\" onclick=\"convertToInteractive('df-0e401803-9a9d-4cdb-8cb5-4fd67912ee6d')\"\n",
              "              title=\"Convert this dataframe to an interactive table.\"\n",
              "              style=\"display:none;\">\n",
              "        \n",
              "  <svg xmlns=\"http://www.w3.org/2000/svg\" height=\"24px\"viewBox=\"0 0 24 24\"\n",
              "       width=\"24px\">\n",
              "    <path d=\"M0 0h24v24H0V0z\" fill=\"none\"/>\n",
              "    <path d=\"M18.56 5.44l.94 2.06.94-2.06 2.06-.94-2.06-.94-.94-2.06-.94 2.06-2.06.94zm-11 1L8.5 8.5l.94-2.06 2.06-.94-2.06-.94L8.5 2.5l-.94 2.06-2.06.94zm10 10l.94 2.06.94-2.06 2.06-.94-2.06-.94-.94-2.06-.94 2.06-2.06.94z\"/><path d=\"M17.41 7.96l-1.37-1.37c-.4-.4-.92-.59-1.43-.59-.52 0-1.04.2-1.43.59L10.3 9.45l-7.72 7.72c-.78.78-.78 2.05 0 2.83L4 21.41c.39.39.9.59 1.41.59.51 0 1.02-.2 1.41-.59l7.78-7.78 2.81-2.81c.8-.78.8-2.07 0-2.86zM5.41 20L4 18.59l7.72-7.72 1.47 1.35L5.41 20z\"/>\n",
              "  </svg>\n",
              "      </button>\n",
              "      \n",
              "  <style>\n",
              "    .colab-df-container {\n",
              "      display:flex;\n",
              "      flex-wrap:wrap;\n",
              "      gap: 12px;\n",
              "    }\n",
              "\n",
              "    .colab-df-convert {\n",
              "      background-color: #E8F0FE;\n",
              "      border: none;\n",
              "      border-radius: 50%;\n",
              "      cursor: pointer;\n",
              "      display: none;\n",
              "      fill: #1967D2;\n",
              "      height: 32px;\n",
              "      padding: 0 0 0 0;\n",
              "      width: 32px;\n",
              "    }\n",
              "\n",
              "    .colab-df-convert:hover {\n",
              "      background-color: #E2EBFA;\n",
              "      box-shadow: 0px 1px 2px rgba(60, 64, 67, 0.3), 0px 1px 3px 1px rgba(60, 64, 67, 0.15);\n",
              "      fill: #174EA6;\n",
              "    }\n",
              "\n",
              "    [theme=dark] .colab-df-convert {\n",
              "      background-color: #3B4455;\n",
              "      fill: #D2E3FC;\n",
              "    }\n",
              "\n",
              "    [theme=dark] .colab-df-convert:hover {\n",
              "      background-color: #434B5C;\n",
              "      box-shadow: 0px 1px 3px 1px rgba(0, 0, 0, 0.15);\n",
              "      filter: drop-shadow(0px 1px 2px rgba(0, 0, 0, 0.3));\n",
              "      fill: #FFFFFF;\n",
              "    }\n",
              "  </style>\n",
              "\n",
              "      <script>\n",
              "        const buttonEl =\n",
              "          document.querySelector('#df-0e401803-9a9d-4cdb-8cb5-4fd67912ee6d button.colab-df-convert');\n",
              "        buttonEl.style.display =\n",
              "          google.colab.kernel.accessAllowed ? 'block' : 'none';\n",
              "\n",
              "        async function convertToInteractive(key) {\n",
              "          const element = document.querySelector('#df-0e401803-9a9d-4cdb-8cb5-4fd67912ee6d');\n",
              "          const dataTable =\n",
              "            await google.colab.kernel.invokeFunction('convertToInteractive',\n",
              "                                                     [key], {});\n",
              "          if (!dataTable) return;\n",
              "\n",
              "          const docLinkHtml = 'Like what you see? Visit the ' +\n",
              "            '<a target=\"_blank\" href=https://colab.research.google.com/notebooks/data_table.ipynb>data table notebook</a>'\n",
              "            + ' to learn more about interactive tables.';\n",
              "          element.innerHTML = '';\n",
              "          dataTable['output_type'] = 'display_data';\n",
              "          await google.colab.output.renderOutput(dataTable, element);\n",
              "          const docLink = document.createElement('div');\n",
              "          docLink.innerHTML = docLinkHtml;\n",
              "          element.appendChild(docLink);\n",
              "        }\n",
              "      </script>\n",
              "    </div>\n",
              "  </div>\n",
              "  "
            ]
          },
          "metadata": {},
          "execution_count": 69
        }
      ]
    },
    {
      "cell_type": "code",
      "source": [
        "df1[\"Treatments\"].value_counts()"
      ],
      "metadata": {
        "colab": {
          "base_uri": "https://localhost:8080/"
        },
        "id": "e2xV-YUcc9w_",
        "outputId": "d0c51154-2a4d-4582-9556-321c835f4787"
      },
      "execution_count": 70,
      "outputs": [
        {
          "output_type": "execute_result",
          "data": {
            "text/plain": [
              "T1     1\n",
              "T2     1\n",
              "T3     1\n",
              "T4     1\n",
              "T5     1\n",
              "T6     1\n",
              "T7     1\n",
              "T8     1\n",
              "T9     1\n",
              "T10    1\n",
              "T11    1\n",
              "T12    1\n",
              "Name: Treatments, dtype: int64"
            ]
          },
          "metadata": {},
          "execution_count": 70
        }
      ]
    },
    {
      "cell_type": "code",
      "source": [
        "# 3. Exploratory Data Analysis :\n",
        "# 3a. Identifikasi setiap kolom minimal 2 maksimal 3 dengan masing-masing minimal 3 gambar\n",
        "# Kolom Height 30 days\n",
        "sns.boxplot(x=df1[\"Height_30days\"])"
      ],
      "metadata": {
        "colab": {
          "base_uri": "https://localhost:8080/",
          "height": 297
        },
        "id": "9rb6ZO9EdEEc",
        "outputId": "c14edd2e-3f62-4b4e-e086-945343ec4e20"
      },
      "execution_count": 71,
      "outputs": [
        {
          "output_type": "execute_result",
          "data": {
            "text/plain": [
              "<matplotlib.axes._subplots.AxesSubplot at 0x7f10cadcc190>"
            ]
          },
          "metadata": {},
          "execution_count": 71
        },
        {
          "output_type": "display_data",
          "data": {
            "text/plain": [
              "<Figure size 432x288 with 1 Axes>"
            ],
            "image/png": "[encoded data removed]"
          },
          "metadata": {
            "needs_background": "light"
          }
        }
      ]
    },
    {
      "cell_type": "code",
      "source": [
        "plt.boxplot(df1[\"Height_30days\"])\n",
        "plt.show()"
      ],
      "metadata": {
        "colab": {
          "base_uri": "https://localhost:8080/",
          "height": 265
        },
        "id": "CViiSAXjdJ1h",
        "outputId": "f0e38ace-36d2-49e9-f99a-b4f46913c6b2"
      },
      "execution_count": 72,
      "outputs": [
        {
          "output_type": "display_data",
          "data": {
            "text/plain": [
              "<Figure size 432x288 with 1 Axes>"
            ],
            "image/png": "[encoded data removed]"
          },
          "metadata": {
            "needs_background": "light"
          }
        }
      ]
    },
    {
      "cell_type": "code",
      "source": [
        "# menggunakan Histogram\n",
        "plt.hist(df1[\"Height_30days\"])\n",
        "plt.xlabel(\"Height After 30 Days\")\n",
        "plt.ylabel(\"Frequency\")\n",
        "plt.show()"
      ],
      "metadata": {
        "colab": {
          "base_uri": "https://localhost:8080/",
          "height": 279
        },
        "id": "KK8QE-4DdMGL",
        "outputId": "5a49573a-2d25-4ab8-95b2-0e02827fea19"
      },
      "execution_count": 73,
      "outputs": [
        {
          "output_type": "display_data",
          "data": {
            "text/plain": [
              "<Figure size 432x288 with 1 Axes>"
            ],
            "image/png": "[encoded data removed]"
          },
          "metadata": {
            "needs_background": "light"
          }
        }
      ]
    },
    {
      "cell_type": "code",
      "source": [
        "# Kolom Height 60 Days\n",
        "sns.boxplot(x=df1[\"Height_60days\"])"
      ],
      "metadata": {
        "colab": {
          "base_uri": "https://localhost:8080/",
          "height": 297
        },
        "id": "3IfN5zWQdOwP",
        "outputId": "ae836e25-420e-4a82-ddf7-1a6c836be622"
      },
      "execution_count": 74,
      "outputs": [
        {
          "output_type": "execute_result",
          "data": {
            "text/plain": [
              "<matplotlib.axes._subplots.AxesSubplot at 0x7f10cab6de50>"
            ]
          },
          "metadata": {},
          "execution_count": 74
        },
        {
          "output_type": "display_data",
          "data": {
            "text/plain": [
              "<Figure size 432x288 with 1 Axes>"
            ],
            "image/png": "[encoded data removed]"
          },
          "metadata": {
            "needs_background": "light"
          }
        }
      ]
    },
    {
      "cell_type": "code",
      "source": [
        "plt.boxplot(df1[\"Height_60days\"])\n",
        "plt.show()"
      ],
      "metadata": {
        "colab": {
          "base_uri": "https://localhost:8080/",
          "height": 265
        },
        "id": "wRb7pBUhdREB",
        "outputId": "7a21611f-4dc5-4065-eb95-735d6a603ac5"
      },
      "execution_count": 75,
      "outputs": [
        {
          "output_type": "display_data",
          "data": {
            "text/plain": [
              "<Figure size 432x288 with 1 Axes>"
            ],
            "image/png": "[encoded data removed]"
          },
          "metadata": {
            "needs_background": "light"
          }
        }
      ]
    },
    {
      "cell_type": "code",
      "source": [
        "# menggunakan Histogram\n",
        "plt.hist(df1[\"Height_60days\"])\n",
        "plt.xlabel(\"Height After 60 Days\")\n",
        "plt.ylabel(\"Frequency\")\n",
        "plt.show()"
      ],
      "metadata": {
        "colab": {
          "base_uri": "https://localhost:8080/",
          "height": 279
        },
        "id": "C9iAQZdMdUvX",
        "outputId": "4f53f63c-0826-4772-bb5c-919e376d90c0"
      },
      "execution_count": 76,
      "outputs": [
        {
          "output_type": "display_data",
          "data": {
            "text/plain": [
              "<Figure size 432x288 with 1 Axes>"
            ],
            "image/png": "[encoded data removed]"
          },
          "metadata": {
            "needs_background": "light"
          }
        }
      ]
    },
    {
      "cell_type": "code",
      "source": [
        "# 3b. Identifikasi hubungan antara variabel minimal 2 maksimal 3 dengan masing-masing minimal 3 gambar\n",
        "# Variabel Height 30 days dan Height 60 days\n",
        "# menggunakan Scatter\n",
        "plt.scatter(df1[\"Height_30days\"], df1[\"Height_60days\"])\n",
        "plt.xlabel(\"Height After 30 Days\")\n",
        "plt.ylabel(\"Height After 60 Days\")\n",
        "plt.title(\"Height After 30 Days - 60 Days\")\n",
        "plt.show()"
      ],
      "metadata": {
        "colab": {
          "base_uri": "https://localhost:8080/",
          "height": 295
        },
        "id": "pczXaJPudWya",
        "outputId": "ab2fc05a-e03d-4c61-d377-c660e3c5fc7e"
      },
      "execution_count": 77,
      "outputs": [
        {
          "output_type": "display_data",
          "data": {
            "text/plain": [
              "<Figure size 432x288 with 1 Axes>"
            ],
            "image/png": "[encoded data removed]"
          },
          "metadata": {
            "needs_background": "light"
          }
        }
      ]
    },
    {
      "cell_type": "code",
      "source": [
        "# menggunakan Regplot\n",
        "sns.regplot(x=df1[\"Height_30days\"], y=df1[\"Height_60days\"])"
      ],
      "metadata": {
        "colab": {
          "base_uri": "https://localhost:8080/",
          "height": 297
        },
        "id": "TfjNoPaUdZqw",
        "outputId": "a8fdc5ef-ec93-4ffa-8621-0f1000d1cff5"
      },
      "execution_count": 78,
      "outputs": [
        {
          "output_type": "execute_result",
          "data": {
            "text/plain": [
              "<matplotlib.axes._subplots.AxesSubplot at 0x7f10ca966350>"
            ]
          },
          "metadata": {},
          "execution_count": 78
        },
        {
          "output_type": "display_data",
          "data": {
            "text/plain": [
              "<Figure size 432x288 with 1 Axes>"
            ],
            "image/png": "[encoded data removed]"
          },
          "metadata": {
            "needs_background": "light"
          }
        }
      ]
    },
    {
      "cell_type": "code",
      "source": [
        "# menggunakan Boxplot\n",
        "sns.boxplot(x=df1[\"Height_30days\"], y=df1[\"Height_60days\"])"
      ],
      "metadata": {
        "colab": {
          "base_uri": "https://localhost:8080/",
          "height": 297
        },
        "id": "rlWyQ452dbeK",
        "outputId": "ebe2f005-f5c6-401c-926b-3bdd481edf8e"
      },
      "execution_count": 79,
      "outputs": [
        {
          "output_type": "execute_result",
          "data": {
            "text/plain": [
              "<matplotlib.axes._subplots.AxesSubplot at 0x7f10caa18a90>"
            ]
          },
          "metadata": {},
          "execution_count": 79
        },
        {
          "output_type": "display_data",
          "data": {
            "text/plain": [
              "<Figure size 432x288 with 1 Axes>"
            ],
            "image/png": "[encoded data removed]"
          },
          "metadata": {
            "needs_background": "light"
          }
        }
      ]
    },
    {
      "cell_type": "code",
      "source": [
        "# Variabel Height 30 days dan Height 60 days\n",
        "# menggunakan Scatter\n",
        "plt.scatter(df1[\"Height_60days\"], df1[\"Height_90days\"])\n",
        "plt.xlabel(\"Height After 60 Days\")\n",
        "plt.ylabel(\"Height After 90 Days\")\n",
        "plt.title(\"Height After 60 Days - 90 Days\")\n",
        "plt.show()"
      ],
      "metadata": {
        "colab": {
          "base_uri": "https://localhost:8080/",
          "height": 295
        },
        "id": "kDnFoOwLddZB",
        "outputId": "95355299-d365-4779-e561-9fbbaf59c99f"
      },
      "execution_count": 80,
      "outputs": [
        {
          "output_type": "display_data",
          "data": {
            "text/plain": [
              "<Figure size 432x288 with 1 Axes>"
            ],
            "image/png": "[encoded data removed]"
          },
          "metadata": {
            "needs_background": "light"
          }
        }
      ]
    },
    {
      "cell_type": "code",
      "source": [
        "# menggunakan Regplot\n",
        "sns.regplot(x=df1[\"Height_60days\"], y=df1[\"Height_90days\"])"
      ],
      "metadata": {
        "colab": {
          "base_uri": "https://localhost:8080/",
          "height": 297
        },
        "id": "k3Dgi5Ghde7B",
        "outputId": "434d36ea-62b9-4bd2-a19e-79e32cfe2263"
      },
      "execution_count": 81,
      "outputs": [
        {
          "output_type": "execute_result",
          "data": {
            "text/plain": [
              "<matplotlib.axes._subplots.AxesSubplot at 0x7f10cab8ef50>"
            ]
          },
          "metadata": {},
          "execution_count": 81
        },
        {
          "output_type": "display_data",
          "data": {
            "text/plain": [
              "<Figure size 432x288 with 1 Axes>"
            ],
            "image/png": "[encoded data removed]"
          },
          "metadata": {
            "needs_background": "light"
          }
        }
      ]
    },
    {
      "cell_type": "code",
      "source": [
        "# menggunakan Boxplot\n",
        "sns.boxplot(x=df1[\"Height_60days\"], y=df1[\"Height_90days\"])"
      ],
      "metadata": {
        "colab": {
          "base_uri": "https://localhost:8080/",
          "height": 297
        },
        "id": "XMEC4qAldhCv",
        "outputId": "52e54c44-e8e5-47b5-ceec-d554e28af787"
      },
      "execution_count": 82,
      "outputs": [
        {
          "output_type": "execute_result",
          "data": {
            "text/plain": [
              "<matplotlib.axes._subplots.AxesSubplot at 0x7f10ca91ecd0>"
            ]
          },
          "metadata": {},
          "execution_count": 82
        },
        {
          "output_type": "display_data",
          "data": {
            "text/plain": [
              "<Figure size 432x288 with 1 Axes>"
            ],
            "image/png": "[encoded data removed]"
          },
          "metadata": {
            "needs_background": "light"
          }
        }
      ]
    },
    {
      "cell_type": "code",
      "source": [
        "# 3c. Correlation (Correlation Matriks), buat minimal 5 gambar dalam menentukan hubungan antar variabel\n",
        "df1.corr()"
      ],
      "metadata": {
        "colab": {
          "base_uri": "https://localhost:8080/",
          "height": 584
        },
        "id": "MGthfFYldiqz",
        "outputId": "e85ebd6c-6fb9-4141-ae05-339242919447"
      },
      "execution_count": 83,
      "outputs": [
        {
          "output_type": "execute_result",
          "data": {
            "text/plain": [
              "                  Sprouting  Height_30days  Height_60days  Height_90days  \\\n",
              "Sprouting          1.000000      -0.942245      -0.883165      -0.947035   \n",
              "Height_30days     -0.942245       1.000000       0.976145       0.990449   \n",
              "Height_60days     -0.883165       0.976145       1.000000       0.974914   \n",
              "Height_90days     -0.947035       0.990449       0.974914       1.000000   \n",
              "No_of_leaves_30   -0.869578       0.921476       0.948847       0.936632   \n",
              "No_of_leaves_60   -0.965122       0.951329       0.901691       0.963945   \n",
              "No_of_leaves_90   -0.927622       0.948840       0.943408       0.964902   \n",
              "Leaf_area(cm2)    -0.890349       0.982756       0.979750       0.968619   \n",
              "spike_emergence    0.942474      -0.963403      -0.939765      -0.951477   \n",
              "spikes            -0.967082       0.943643       0.868086       0.928949   \n",
              "Length_of_spike   -0.940192       0.975063       0.957308       0.959022   \n",
              "Length_of_Rachis  -0.947436       0.974352       0.951497       0.973427   \n",
              "florets           -0.936094       0.985272       0.966198       0.969944   \n",
              "Diameter          -0.831337       0.949838       0.948863       0.935080   \n",
              "Flower_durations  -0.959332       0.963223       0.911981       0.959129   \n",
              "\n",
              "                  No_of_leaves_30  No_of_leaves_60  No_of_leaves_90  \\\n",
              "Sprouting               -0.869578        -0.965122        -0.927622   \n",
              "Height_30days            0.921476         0.951329         0.948840   \n",
              "Height_60days            0.948847         0.901691         0.943408   \n",
              "Height_90days            0.936632         0.963945         0.964902   \n",
              "No_of_leaves_30          1.000000         0.921592         0.976695   \n",
              "No_of_leaves_60          0.921592         1.000000         0.968838   \n",
              "No_of_leaves_90          0.976695         0.968838         1.000000   \n",
              "Leaf_area(cm2)           0.943765         0.924102         0.937803   \n",
              "spike_emergence         -0.950472        -0.952403        -0.973668   \n",
              "spikes                   0.873464         0.971807         0.929182   \n",
              "Length_of_spike          0.941678         0.941818         0.962470   \n",
              "Length_of_Rachis         0.967512         0.974950         0.986384   \n",
              "florets                  0.912581         0.926528         0.947127   \n",
              "Diameter                 0.840486         0.832355         0.867722   \n",
              "Flower_durations         0.929438         0.981473         0.968032   \n",
              "\n",
              "                  Leaf_area(cm2)  spike_emergence   spikes   Length_of_spike  \\\n",
              "Sprouting              -0.890349         0.942474 -0.967082        -0.940192   \n",
              "Height_30days           0.982756        -0.963403  0.943643         0.975063   \n",
              "Height_60days           0.979750        -0.939765  0.868086         0.957308   \n",
              "Height_90days           0.968619        -0.951477  0.928949         0.959022   \n",
              "No_of_leaves_30         0.943765        -0.950472  0.873464         0.941678   \n",
              "No_of_leaves_60         0.924102        -0.952403  0.971807         0.941818   \n",
              "No_of_leaves_90         0.937803        -0.973668  0.929182         0.962470   \n",
              "Leaf_area(cm2)          1.000000        -0.948803  0.908622         0.958734   \n",
              "spike_emergence        -0.948803         1.000000 -0.964067        -0.995228   \n",
              "spikes                  0.908622        -0.964067  1.000000         0.955322   \n",
              "Length_of_spike         0.958734        -0.995228  0.955322         1.000000   \n",
              "Length_of_Rachis        0.966436        -0.990982  0.964009         0.983877   \n",
              "florets                 0.956306        -0.977418  0.937557         0.988793   \n",
              "Diameter                0.934297        -0.880362  0.822994         0.900322   \n",
              "Flower_durations        0.943676        -0.980121  0.984897         0.967195   \n",
              "\n",
              "                  Length_of_Rachis   florets  Diameter   Flower_durations  \n",
              "Sprouting                -0.947436 -0.936094  -0.831337         -0.959332  \n",
              "Height_30days             0.974352  0.985272   0.949838          0.963223  \n",
              "Height_60days             0.951497  0.966198   0.948863          0.911981  \n",
              "Height_90days             0.973427  0.969944   0.935080          0.959129  \n",
              "No_of_leaves_30           0.967512  0.912581   0.840486          0.929438  \n",
              "No_of_leaves_60           0.974950  0.926528   0.832355          0.981473  \n",
              "No_of_leaves_90           0.986384  0.947127   0.867722          0.968032  \n",
              "Leaf_area(cm2)            0.966436  0.956306   0.934297          0.943676  \n",
              "spike_emergence          -0.990982 -0.977418  -0.880362         -0.980121  \n",
              "spikes                    0.964009  0.937557   0.822994          0.984897  \n",
              "Length_of_spike           0.983877  0.988793   0.900322          0.967195  \n",
              "Length_of_Rachis          1.000000  0.968017   0.889061          0.990359  \n",
              "florets                   0.968017  1.000000   0.947517          0.953474  \n",
              "Diameter                  0.889061  0.947517   1.000000          0.870283  \n",
              "Flower_durations          0.990359  0.953474   0.870283          1.000000  "
            ],
            "text/html": [
              "\n",
              "  <div id=\"df-4efa0595-31b6-4342-b1c1-9b97c5db82df\">\n",
              "    <div class=\"colab-df-container\">\n",
              "      <div>\n",
              "<style scoped>\n",
              "    .dataframe tbody tr th:only-of-type {\n",
              "        vertical-align: middle;\n",
              "    }\n",
              "\n",
              "    .dataframe tbody tr th {\n",
              "        vertical-align: top;\n",
              "    }\n",
              "\n",
              "    .dataframe thead th {\n",
              "        text-align: right;\n",
              "    }\n",
              "</style>\n",
              "<table border=\"1\" class=\"dataframe\">\n",
              "  <thead>\n",
              "    <tr style=\"text-align: right;\">\n",
              "      <th></th>\n",
              "      <th>Sprouting</th>\n",
              "      <th>Height_30days</th>\n",
              "      <th>Height_60days</th>\n",
              "      <th>Height_90days</th>\n",
              "      <th>No_of_leaves_30</th>\n",
              "      <th>No_of_leaves_60</th>\n",
              "      <th>No_of_leaves_90</th>\n",
              "      <th>Leaf_area(cm2)</th>\n",
              "      <th>spike_emergence</th>\n",
              "      <th>spikes</th>\n",
              "      <th>Length_of_spike</th>\n",
              "      <th>Length_of_Rachis</th>\n",
              "      <th>florets</th>\n",
              "      <th>Diameter</th>\n",
              "      <th>Flower_durations</th>\n",
              "    </tr>\n",
              "  </thead>\n",
              "  <tbody>\n",
              "    <tr>\n",
              "      <th>Sprouting</th>\n",
              "      <td>1.000000</td>\n",
              "      <td>-0.942245</td>\n",
              "      <td>-0.883165</td>\n",
              "      <td>-0.947035</td>\n",
              "      <td>-0.869578</td>\n",
              "      <td>-0.965122</td>\n",
              "      <td>-0.927622</td>\n",
              "      <td>-0.890349</td>\n",
              "      <td>0.942474</td>\n",
              "      <td>-0.967082</td>\n",
              "      <td>-0.940192</td>\n",
              "      <td>-0.947436</td>\n",
              "      <td>-0.936094</td>\n",
              "      <td>-0.831337</td>\n",
              "      <td>-0.959332</td>\n",
              "    </tr>\n",
              "    <tr>\n",
              "      <th>Height_30days</th>\n",
              "      <td>-0.942245</td>\n",
              "      <td>1.000000</td>\n",
              "      <td>0.976145</td>\n",
              "      <td>0.990449</td>\n",
              "      <td>0.921476</td>\n",
              "      <td>0.951329</td>\n",
              "      <td>0.948840</td>\n",
              "      <td>0.982756</td>\n",
              "      <td>-0.963403</td>\n",
              "      <td>0.943643</td>\n",
              "      <td>0.975063</td>\n",
              "      <td>0.974352</td>\n",
              "      <td>0.985272</td>\n",
              "      <td>0.949838</td>\n",
              "      <td>0.963223</td>\n",
              "    </tr>\n",
              "    <tr>\n",
              "      <th>Height_60days</th>\n",
              "      <td>-0.883165</td>\n",
              "      <td>0.976145</td>\n",
              "      <td>1.000000</td>\n",
              "      <td>0.974914</td>\n",
              "      <td>0.948847</td>\n",
              "      <td>0.901691</td>\n",
              "      <td>0.943408</td>\n",
              "      <td>0.979750</td>\n",
              "      <td>-0.939765</td>\n",
              "      <td>0.868086</td>\n",
              "      <td>0.957308</td>\n",
              "      <td>0.951497</td>\n",
              "      <td>0.966198</td>\n",
              "      <td>0.948863</td>\n",
              "      <td>0.911981</td>\n",
              "    </tr>\n",
              "    <tr>\n",
              "      <th>Height_90days</th>\n",
              "      <td>-0.947035</td>\n",
              "      <td>0.990449</td>\n",
              "      <td>0.974914</td>\n",
              "      <td>1.000000</td>\n",
              "      <td>0.936632</td>\n",
              "      <td>0.963945</td>\n",
              "      <td>0.964902</td>\n",
              "      <td>0.968619</td>\n",
              "      <td>-0.951477</td>\n",
              "      <td>0.928949</td>\n",
              "      <td>0.959022</td>\n",
              "      <td>0.973427</td>\n",
              "      <td>0.969944</td>\n",
              "      <td>0.935080</td>\n",
              "      <td>0.959129</td>\n",
              "    </tr>\n",
              "    <tr>\n",
              "      <th>No_of_leaves_30</th>\n",
              "      <td>-0.869578</td>\n",
              "      <td>0.921476</td>\n",
              "      <td>0.948847</td>\n",
              "      <td>0.936632</td>\n",
              "      <td>1.000000</td>\n",
              "      <td>0.921592</td>\n",
              "      <td>0.976695</td>\n",
              "      <td>0.943765</td>\n",
              "      <td>-0.950472</td>\n",
              "      <td>0.873464</td>\n",
              "      <td>0.941678</td>\n",
              "      <td>0.967512</td>\n",
              "      <td>0.912581</td>\n",
              "      <td>0.840486</td>\n",
              "      <td>0.929438</td>\n",
              "    </tr>\n",
              "    <tr>\n",
              "      <th>No_of_leaves_60</th>\n",
              "      <td>-0.965122</td>\n",
              "      <td>0.951329</td>\n",
              "      <td>0.901691</td>\n",
              "      <td>0.963945</td>\n",
              "      <td>0.921592</td>\n",
              "      <td>1.000000</td>\n",
              "      <td>0.968838</td>\n",
              "      <td>0.924102</td>\n",
              "      <td>-0.952403</td>\n",
              "      <td>0.971807</td>\n",
              "      <td>0.941818</td>\n",
              "      <td>0.974950</td>\n",
              "      <td>0.926528</td>\n",
              "      <td>0.832355</td>\n",
              "      <td>0.981473</td>\n",
              "    </tr>\n",
              "    <tr>\n",
              "      <th>No_of_leaves_90</th>\n",
              "      <td>-0.927622</td>\n",
              "      <td>0.948840</td>\n",
              "      <td>0.943408</td>\n",
              "      <td>0.964902</td>\n",
              "      <td>0.976695</td>\n",
              "      <td>0.968838</td>\n",
              "      <td>1.000000</td>\n",
              "      <td>0.937803</td>\n",
              "      <td>-0.973668</td>\n",
              "      <td>0.929182</td>\n",
              "      <td>0.962470</td>\n",
              "      <td>0.986384</td>\n",
              "      <td>0.947127</td>\n",
              "      <td>0.867722</td>\n",
              "      <td>0.968032</td>\n",
              "    </tr>\n",
              "    <tr>\n",
              "      <th>Leaf_area(cm2)</th>\n",
              "      <td>-0.890349</td>\n",
              "      <td>0.982756</td>\n",
              "      <td>0.979750</td>\n",
              "      <td>0.968619</td>\n",
              "      <td>0.943765</td>\n",
              "      <td>0.924102</td>\n",
              "      <td>0.937803</td>\n",
              "      <td>1.000000</td>\n",
              "      <td>-0.948803</td>\n",
              "      <td>0.908622</td>\n",
              "      <td>0.958734</td>\n",
              "      <td>0.966436</td>\n",
              "      <td>0.956306</td>\n",
              "      <td>0.934297</td>\n",
              "      <td>0.943676</td>\n",
              "    </tr>\n",
              "    <tr>\n",
              "      <th>spike_emergence</th>\n",
              "      <td>0.942474</td>\n",
              "      <td>-0.963403</td>\n",
              "      <td>-0.939765</td>\n",
              "      <td>-0.951477</td>\n",
              "      <td>-0.950472</td>\n",
              "      <td>-0.952403</td>\n",
              "      <td>-0.973668</td>\n",
              "      <td>-0.948803</td>\n",
              "      <td>1.000000</td>\n",
              "      <td>-0.964067</td>\n",
              "      <td>-0.995228</td>\n",
              "      <td>-0.990982</td>\n",
              "      <td>-0.977418</td>\n",
              "      <td>-0.880362</td>\n",
              "      <td>-0.980121</td>\n",
              "    </tr>\n",
              "    <tr>\n",
              "      <th>spikes</th>\n",
              "      <td>-0.967082</td>\n",
              "      <td>0.943643</td>\n",
              "      <td>0.868086</td>\n",
              "      <td>0.928949</td>\n",
              "      <td>0.873464</td>\n",
              "      <td>0.971807</td>\n",
              "      <td>0.929182</td>\n",
              "      <td>0.908622</td>\n",
              "      <td>-0.964067</td>\n",
              "      <td>1.000000</td>\n",
              "      <td>0.955322</td>\n",
              "      <td>0.964009</td>\n",
              "      <td>0.937557</td>\n",
              "      <td>0.822994</td>\n",
              "      <td>0.984897</td>\n",
              "    </tr>\n",
              "    <tr>\n",
              "      <th>Length_of_spike</th>\n",
              "      <td>-0.940192</td>\n",
              "      <td>0.975063</td>\n",
              "      <td>0.957308</td>\n",
              "      <td>0.959022</td>\n",
              "      <td>0.941678</td>\n",
              "      <td>0.941818</td>\n",
              "      <td>0.962470</td>\n",
              "      <td>0.958734</td>\n",
              "      <td>-0.995228</td>\n",
              "      <td>0.955322</td>\n",
              "      <td>1.000000</td>\n",
              "      <td>0.983877</td>\n",
              "      <td>0.988793</td>\n",
              "      <td>0.900322</td>\n",
              "      <td>0.967195</td>\n",
              "    </tr>\n",
              "    <tr>\n",
              "      <th>Length_of_Rachis</th>\n",
              "      <td>-0.947436</td>\n",
              "      <td>0.974352</td>\n",
              "      <td>0.951497</td>\n",
              "      <td>0.973427</td>\n",
              "      <td>0.967512</td>\n",
              "      <td>0.974950</td>\n",
              "      <td>0.986384</td>\n",
              "      <td>0.966436</td>\n",
              "      <td>-0.990982</td>\n",
              "      <td>0.964009</td>\n",
              "      <td>0.983877</td>\n",
              "      <td>1.000000</td>\n",
              "      <td>0.968017</td>\n",
              "      <td>0.889061</td>\n",
              "      <td>0.990359</td>\n",
              "    </tr>\n",
              "    <tr>\n",
              "      <th>florets</th>\n",
              "      <td>-0.936094</td>\n",
              "      <td>0.985272</td>\n",
              "      <td>0.966198</td>\n",
              "      <td>0.969944</td>\n",
              "      <td>0.912581</td>\n",
              "      <td>0.926528</td>\n",
              "      <td>0.947127</td>\n",
              "      <td>0.956306</td>\n",
              "      <td>-0.977418</td>\n",
              "      <td>0.937557</td>\n",
              "      <td>0.988793</td>\n",
              "      <td>0.968017</td>\n",
              "      <td>1.000000</td>\n",
              "      <td>0.947517</td>\n",
              "      <td>0.953474</td>\n",
              "    </tr>\n",
              "    <tr>\n",
              "      <th>Diameter</th>\n",
              "      <td>-0.831337</td>\n",
              "      <td>0.949838</td>\n",
              "      <td>0.948863</td>\n",
              "      <td>0.935080</td>\n",
              "      <td>0.840486</td>\n",
              "      <td>0.832355</td>\n",
              "      <td>0.867722</td>\n",
              "      <td>0.934297</td>\n",
              "      <td>-0.880362</td>\n",
              "      <td>0.822994</td>\n",
              "      <td>0.900322</td>\n",
              "      <td>0.889061</td>\n",
              "      <td>0.947517</td>\n",
              "      <td>1.000000</td>\n",
              "      <td>0.870283</td>\n",
              "    </tr>\n",
              "    <tr>\n",
              "      <th>Flower_durations</th>\n",
              "      <td>-0.959332</td>\n",
              "      <td>0.963223</td>\n",
              "      <td>0.911981</td>\n",
              "      <td>0.959129</td>\n",
              "      <td>0.929438</td>\n",
              "      <td>0.981473</td>\n",
              "      <td>0.968032</td>\n",
              "      <td>0.943676</td>\n",
              "      <td>-0.980121</td>\n",
              "      <td>0.984897</td>\n",
              "      <td>0.967195</td>\n",
              "      <td>0.990359</td>\n",
              "      <td>0.953474</td>\n",
              "      <td>0.870283</td>\n",
              "      <td>1.000000</td>\n",
              "    </tr>\n",
              "  </tbody>\n",
              "</table>\n",
              "</div>\n",
              "      <button class=\"colab-df-convert\" onclick=\"convertToInteractive('df-4efa0595-31b6-4342-b1c1-9b97c5db82df')\"\n",
              "              title=\"Convert this dataframe to an interactive table.\"\n",
              "              style=\"display:none;\">\n",
              "        \n",
              "  <svg xmlns=\"http://www.w3.org/2000/svg\" height=\"24px\"viewBox=\"0 0 24 24\"\n",
              "       width=\"24px\">\n",
              "    <path d=\"M0 0h24v24H0V0z\" fill=\"none\"/>\n",
              "    <path d=\"M18.56 5.44l.94 2.06.94-2.06 2.06-.94-2.06-.94-.94-2.06-.94 2.06-2.06.94zm-11 1L8.5 8.5l.94-2.06 2.06-.94-2.06-.94L8.5 2.5l-.94 2.06-2.06.94zm10 10l.94 2.06.94-2.06 2.06-.94-2.06-.94-.94-2.06-.94 2.06-2.06.94z\"/><path d=\"M17.41 7.96l-1.37-1.37c-.4-.4-.92-.59-1.43-.59-.52 0-1.04.2-1.43.59L10.3 9.45l-7.72 7.72c-.78.78-.78 2.05 0 2.83L4 21.41c.39.39.9.59 1.41.59.51 0 1.02-.2 1.41-.59l7.78-7.78 2.81-2.81c.8-.78.8-2.07 0-2.86zM5.41 20L4 18.59l7.72-7.72 1.47 1.35L5.41 20z\"/>\n",
              "  </svg>\n",
              "      </button>\n",
              "      \n",
              "  <style>\n",
              "    .colab-df-container {\n",
              "      display:flex;\n",
              "      flex-wrap:wrap;\n",
              "      gap: 12px;\n",
              "    }\n",
              "\n",
              "    .colab-df-convert {\n",
              "      background-color: #E8F0FE;\n",
              "      border: none;\n",
              "      border-radius: 50%;\n",
              "      cursor: pointer;\n",
              "      display: none;\n",
              "      fill: #1967D2;\n",
              "      height: 32px;\n",
              "      padding: 0 0 0 0;\n",
              "      width: 32px;\n",
              "    }\n",
              "\n",
              "    .colab-df-convert:hover {\n",
              "      background-color: #E2EBFA;\n",
              "      box-shadow: 0px 1px 2px rgba(60, 64, 67, 0.3), 0px 1px 3px 1px rgba(60, 64, 67, 0.15);\n",
              "      fill: #174EA6;\n",
              "    }\n",
              "\n",
              "    [theme=dark] .colab-df-convert {\n",
              "      background-color: #3B4455;\n",
              "      fill: #D2E3FC;\n",
              "    }\n",
              "\n",
              "    [theme=dark] .colab-df-convert:hover {\n",
              "      background-color: #434B5C;\n",
              "      box-shadow: 0px 1px 3px 1px rgba(0, 0, 0, 0.15);\n",
              "      filter: drop-shadow(0px 1px 2px rgba(0, 0, 0, 0.3));\n",
              "      fill: #FFFFFF;\n",
              "    }\n",
              "  </style>\n",
              "\n",
              "      <script>\n",
              "        const buttonEl =\n",
              "          document.querySelector('#df-4efa0595-31b6-4342-b1c1-9b97c5db82df button.colab-df-convert');\n",
              "        buttonEl.style.display =\n",
              "          google.colab.kernel.accessAllowed ? 'block' : 'none';\n",
              "\n",
              "        async function convertToInteractive(key) {\n",
              "          const element = document.querySelector('#df-4efa0595-31b6-4342-b1c1-9b97c5db82df');\n",
              "          const dataTable =\n",
              "            await google.colab.kernel.invokeFunction('convertToInteractive',\n",
              "                                                     [key], {});\n",
              "          if (!dataTable) return;\n",
              "\n",
              "          const docLinkHtml = 'Like what you see? Visit the ' +\n",
              "            '<a target=\"_blank\" href=https://colab.research.google.com/notebooks/data_table.ipynb>data table notebook</a>'\n",
              "            + ' to learn more about interactive tables.';\n",
              "          element.innerHTML = '';\n",
              "          dataTable['output_type'] = 'display_data';\n",
              "          await google.colab.output.renderOutput(dataTable, element);\n",
              "          const docLink = document.createElement('div');\n",
              "          docLink.innerHTML = docLinkHtml;\n",
              "          element.appendChild(docLink);\n",
              "        }\n",
              "      </script>\n",
              "    </div>\n",
              "  </div>\n",
              "  "
            ]
          },
          "metadata": {},
          "execution_count": 83
        }
      ]
    },
    {
      "cell_type": "code",
      "source": [
        "plt.figure(figsize=(18,9))\n",
        "sns.heatmap(df1.corr(), annot=True)"
      ],
      "metadata": {
        "colab": {
          "base_uri": "https://localhost:8080/",
          "height": 635
        },
        "id": "RzKYVojudrpr",
        "outputId": "2feed93b-2def-4cee-d043-18a4d4017490"
      },
      "execution_count": 84,
      "outputs": [
        {
          "output_type": "execute_result",
          "data": {
            "text/plain": [
              "<matplotlib.axes._subplots.AxesSubplot at 0x7f10ca7a7590>"
            ]
          },
          "metadata": {},
          "execution_count": 84
        },
        {
          "output_type": "display_data",
          "data": {
            "text/plain": [
              "<Figure size 1296x648 with 2 Axes>"
            ],
            "image/png": "[encoded data removed]"
          },
          "metadata": {
            "needs_background": "light"
          }
        }
      ]
    },
    {
      "cell_type": "code",
      "source": [
        "# nilai correlation mendekati 1\n",
        "sns.regplot(x=df1[\"Height_30days\"], y=df1[\"Height_60days\"])"
      ],
      "metadata": {
        "colab": {
          "base_uri": "https://localhost:8080/",
          "height": 297
        },
        "id": "AS8J10-Gdu6y",
        "outputId": "30f1be0e-2ce8-429f-a685-1d521ed94437"
      },
      "execution_count": 85,
      "outputs": [
        {
          "output_type": "execute_result",
          "data": {
            "text/plain": [
              "<matplotlib.axes._subplots.AxesSubplot at 0x7f10ca6d74d0>"
            ]
          },
          "metadata": {},
          "execution_count": 85
        },
        {
          "output_type": "display_data",
          "data": {
            "text/plain": [
              "<Figure size 432x288 with 1 Axes>"
            ],
            "image/png": "[encoded data removed]"
          },
          "metadata": {
            "needs_background": "light"
          }
        }
      ]
    },
    {
      "cell_type": "code",
      "source": [
        "# nilai correlation mendekati 1\n",
        "sns.regplot(x=df1[\"Height_60days\"], y=df1[\"Height_90days\"])"
      ],
      "metadata": {
        "colab": {
          "base_uri": "https://localhost:8080/",
          "height": 297
        },
        "id": "TqKrMvklgQPn",
        "outputId": "b21a31af-4f0c-4855-9803-54aaea3bf28e"
      },
      "execution_count": 86,
      "outputs": [
        {
          "output_type": "execute_result",
          "data": {
            "text/plain": [
              "<matplotlib.axes._subplots.AxesSubplot at 0x7f10ca462b50>"
            ]
          },
          "metadata": {},
          "execution_count": 86
        },
        {
          "output_type": "display_data",
          "data": {
            "text/plain": [
              "<Figure size 432x288 with 1 Axes>"
            ],
            "image/png": "[encoded data removed]"
          },
          "metadata": {
            "needs_background": "light"
          }
        }
      ]
    },
    {
      "cell_type": "code",
      "source": [
        "# nilai correlation mendekati -1\n",
        "sns.regplot(x=df1[\"Height_30days\"], y=df1[\"Sprouting\"])"
      ],
      "metadata": {
        "colab": {
          "base_uri": "https://localhost:8080/",
          "height": 297
        },
        "id": "ugn5h53sgYkI",
        "outputId": "2528e4c8-173d-425c-b32f-98a5b2cb76b1"
      },
      "execution_count": 87,
      "outputs": [
        {
          "output_type": "execute_result",
          "data": {
            "text/plain": [
              "<matplotlib.axes._subplots.AxesSubplot at 0x7f10ca3d6fd0>"
            ]
          },
          "metadata": {},
          "execution_count": 87
        },
        {
          "output_type": "display_data",
          "data": {
            "text/plain": [
              "<Figure size 432x288 with 1 Axes>"
            ],
            "image/png": "[encoded data removed]"
          },
          "metadata": {
            "needs_background": "light"
          }
        }
      ]
    },
    {
      "cell_type": "code",
      "source": [
        "# nilai correlation mendekati -1\n",
        "sns.regplot(x=df1[\"Height_90days\"], y=df1[\"spike_emergence\"])"
      ],
      "metadata": {
        "colab": {
          "base_uri": "https://localhost:8080/",
          "height": 297
        },
        "id": "jSkiexkWf-HR",
        "outputId": "fc24e17d-0a05-4663-e176-53fddcdb5e08"
      },
      "execution_count": 88,
      "outputs": [
        {
          "output_type": "execute_result",
          "data": {
            "text/plain": [
              "<matplotlib.axes._subplots.AxesSubplot at 0x7f10ca3a7550>"
            ]
          },
          "metadata": {},
          "execution_count": 88
        },
        {
          "output_type": "display_data",
          "data": {
            "text/plain": [
              "<Figure size 432x288 with 1 Axes>"
            ],
            "image/png": "[encoded data removed]"
          },
          "metadata": {
            "needs_background": "light"
          }
        }
      ]
    },
    {
      "cell_type": "code",
      "source": [
        "# nilai correlation -1\n",
        "sns.regplot(x=df1[\"Length_of_spike\"], y=df1[\"spike_emergence\"])"
      ],
      "metadata": {
        "colab": {
          "base_uri": "https://localhost:8080/",
          "height": 297
        },
        "id": "72Z2g65GgrY6",
        "outputId": "314534e8-7616-4427-d669-2e521edfe969"
      },
      "execution_count": 89,
      "outputs": [
        {
          "output_type": "execute_result",
          "data": {
            "text/plain": [
              "<matplotlib.axes._subplots.AxesSubplot at 0x7f10ca2c8e10>"
            ]
          },
          "metadata": {},
          "execution_count": 89
        },
        {
          "output_type": "display_data",
          "data": {
            "text/plain": [
              "<Figure size 432x288 with 1 Axes>"
            ],
            "image/png": "[encoded data removed]"
          },
          "metadata": {
            "needs_background": "light"
          }
        }
      ]
    },
    {
      "cell_type": "code",
      "source": [
        "# 4. Linear Regression minimal 3\n",
        "from sklearn.linear_model import LinearRegression\n",
        "from sklearn.model_selection import train_test_split\n",
        "\n",
        "x = df1[[\"Height_30days\"]]\n",
        "y = df1[[\"Height_60days\"]]\n",
        "y"
      ],
      "metadata": {
        "colab": {
          "base_uri": "https://localhost:8080/",
          "height": 426
        },
        "id": "nrv0EjPrhNYl",
        "outputId": "80d01e5c-8be2-47d0-ba3c-807833f691c2"
      },
      "execution_count": 90,
      "outputs": [
        {
          "output_type": "execute_result",
          "data": {
            "text/plain": [
              "    Height_60days\n",
              "0           50.12\n",
              "1           53.04\n",
              "2           54.25\n",
              "3           54.28\n",
              "4           54.36\n",
              "5           54.42\n",
              "6           56.14\n",
              "7           56.18\n",
              "8           57.41\n",
              "9           57.47\n",
              "10          56.86\n",
              "11          56.94"
            ],
            "text/html": [
              "\n",
              "  <div id=\"df-d1c52d28-7877-4ad3-be8a-5be323e9a4fc\">\n",
              "    <div class=\"colab-df-container\">\n",
              "      <div>\n",
              "<style scoped>\n",
              "    .dataframe tbody tr th:only-of-type {\n",
              "        vertical-align: middle;\n",
              "    }\n",
              "\n",
              "    .dataframe tbody tr th {\n",
              "        vertical-align: top;\n",
              "    }\n",
              "\n",
              "    .dataframe thead th {\n",
              "        text-align: right;\n",
              "    }\n",
              "</style>\n",
              "<table border=\"1\" class=\"dataframe\">\n",
              "  <thead>\n",
              "    <tr style=\"text-align: right;\">\n",
              "      <th></th>\n",
              "      <th>Height_60days</th>\n",
              "    </tr>\n",
              "  </thead>\n",
              "  <tbody>\n",
              "    <tr>\n",
              "      <th>0</th>\n",
              "      <td>50.12</td>\n",
              "    </tr>\n",
              "    <tr>\n",
              "      <th>1</th>\n",
              "      <td>53.04</td>\n",
              "    </tr>\n",
              "    <tr>\n",
              "      <th>2</th>\n",
              "      <td>54.25</td>\n",
              "    </tr>\n",
              "    <tr>\n",
              "      <th>3</th>\n",
              "      <td>54.28</td>\n",
              "    </tr>\n",
              "    <tr>\n",
              "      <th>4</th>\n",
              "      <td>54.36</td>\n",
              "    </tr>\n",
              "    <tr>\n",
              "      <th>5</th>\n",
              "      <td>54.42</td>\n",
              "    </tr>\n",
              "    <tr>\n",
              "      <th>6</th>\n",
              "      <td>56.14</td>\n",
              "    </tr>\n",
              "    <tr>\n",
              "      <th>7</th>\n",
              "      <td>56.18</td>\n",
              "    </tr>\n",
              "    <tr>\n",
              "      <th>8</th>\n",
              "      <td>57.41</td>\n",
              "    </tr>\n",
              "    <tr>\n",
              "      <th>9</th>\n",
              "      <td>57.47</td>\n",
              "    </tr>\n",
              "    <tr>\n",
              "      <th>10</th>\n",
              "      <td>56.86</td>\n",
              "    </tr>\n",
              "    <tr>\n",
              "      <th>11</th>\n",
              "      <td>56.94</td>\n",
              "    </tr>\n",
              "  </tbody>\n",
              "</table>\n",
              "</div>\n",
              "      <button class=\"colab-df-convert\" onclick=\"convertToInteractive('df-d1c52d28-7877-4ad3-be8a-5be323e9a4fc')\"\n",
              "              title=\"Convert this dataframe to an interactive table.\"\n",
              "              style=\"display:none;\">\n",
              "        \n",
              "  <svg xmlns=\"http://www.w3.org/2000/svg\" height=\"24px\"viewBox=\"0 0 24 24\"\n",
              "       width=\"24px\">\n",
              "    <path d=\"M0 0h24v24H0V0z\" fill=\"none\"/>\n",
              "    <path d=\"M18.56 5.44l.94 2.06.94-2.06 2.06-.94-2.06-.94-.94-2.06-.94 2.06-2.06.94zm-11 1L8.5 8.5l.94-2.06 2.06-.94-2.06-.94L8.5 2.5l-.94 2.06-2.06.94zm10 10l.94 2.06.94-2.06 2.06-.94-2.06-.94-.94-2.06-.94 2.06-2.06.94z\"/><path d=\"M17.41 7.96l-1.37-1.37c-.4-.4-.92-.59-1.43-.59-.52 0-1.04.2-1.43.59L10.3 9.45l-7.72 7.72c-.78.78-.78 2.05 0 2.83L4 21.41c.39.39.9.59 1.41.59.51 0 1.02-.2 1.41-.59l7.78-7.78 2.81-2.81c.8-.78.8-2.07 0-2.86zM5.41 20L4 18.59l7.72-7.72 1.47 1.35L5.41 20z\"/>\n",
              "  </svg>\n",
              "      </button>\n",
              "      \n",
              "  <style>\n",
              "    .colab-df-container {\n",
              "      display:flex;\n",
              "      flex-wrap:wrap;\n",
              "      gap: 12px;\n",
              "    }\n",
              "\n",
              "    .colab-df-convert {\n",
              "      background-color: #E8F0FE;\n",
              "      border: none;\n",
              "      border-radius: 50%;\n",
              "      cursor: pointer;\n",
              "      display: none;\n",
              "      fill: #1967D2;\n",
              "      height: 32px;\n",
              "      padding: 0 0 0 0;\n",
              "      width: 32px;\n",
              "    }\n",
              "\n",
              "    .colab-df-convert:hover {\n",
              "      background-color: #E2EBFA;\n",
              "      box-shadow: 0px 1px 2px rgba(60, 64, 67, 0.3), 0px 1px 3px 1px rgba(60, 64, 67, 0.15);\n",
              "      fill: #174EA6;\n",
              "    }\n",
              "\n",
              "    [theme=dark] .colab-df-convert {\n",
              "      background-color: #3B4455;\n",
              "      fill: #D2E3FC;\n",
              "    }\n",
              "\n",
              "    [theme=dark] .colab-df-convert:hover {\n",
              "      background-color: #434B5C;\n",
              "      box-shadow: 0px 1px 3px 1px rgba(0, 0, 0, 0.15);\n",
              "      filter: drop-shadow(0px 1px 2px rgba(0, 0, 0, 0.3));\n",
              "      fill: #FFFFFF;\n",
              "    }\n",
              "  </style>\n",
              "\n",
              "      <script>\n",
              "        const buttonEl =\n",
              "          document.querySelector('#df-d1c52d28-7877-4ad3-be8a-5be323e9a4fc button.colab-df-convert');\n",
              "        buttonEl.style.display =\n",
              "          google.colab.kernel.accessAllowed ? 'block' : 'none';\n",
              "\n",
              "        async function convertToInteractive(key) {\n",
              "          const element = document.querySelector('#df-d1c52d28-7877-4ad3-be8a-5be323e9a4fc');\n",
              "          const dataTable =\n",
              "            await google.colab.kernel.invokeFunction('convertToInteractive',\n",
              "                                                     [key], {});\n",
              "          if (!dataTable) return;\n",
              "\n",
              "          const docLinkHtml = 'Like what you see? Visit the ' +\n",
              "            '<a target=\"_blank\" href=https://colab.research.google.com/notebooks/data_table.ipynb>data table notebook</a>'\n",
              "            + ' to learn more about interactive tables.';\n",
              "          element.innerHTML = '';\n",
              "          dataTable['output_type'] = 'display_data';\n",
              "          await google.colab.output.renderOutput(dataTable, element);\n",
              "          const docLink = document.createElement('div');\n",
              "          docLink.innerHTML = docLinkHtml;\n",
              "          element.appendChild(docLink);\n",
              "        }\n",
              "      </script>\n",
              "    </div>\n",
              "  </div>\n",
              "  "
            ]
          },
          "metadata": {},
          "execution_count": 90
        }
      ]
    },
    {
      "cell_type": "code",
      "source": [
        "# split menjadi data training dan data testing\n",
        "x_train, x_test, y_train, y_test = train_test_split(x, y, test_size=0.2)\n",
        "\n",
        "lin_reg = LinearRegression()\n",
        "lin_reg.fit(x_train, y_train)\n",
        "\n",
        "print(lin_reg.coef_)\n",
        "print(lin_reg.intercept_)"
      ],
      "metadata": {
        "colab": {
          "base_uri": "https://localhost:8080/"
        },
        "id": "yTp56EQxiIfI",
        "outputId": "1d0ba24d-9e14-49c9-f3ca-f31289de615d"
      },
      "execution_count": 91,
      "outputs": [
        {
          "output_type": "stream",
          "name": "stdout",
          "text": [
            "[[1.05273847]]\n",
            "[24.73843646]\n"
          ]
        }
      ]
    },
    {
      "cell_type": "code",
      "source": [
        "lin_reg.score(x_test, y_test)"
      ],
      "metadata": {
        "colab": {
          "base_uri": "https://localhost:8080/"
        },
        "id": "gXUrgKlKinii",
        "outputId": "a4cefb8e-ae56-4fac-ed8c-ed5b3ba6b7ee"
      },
      "execution_count": 92,
      "outputs": [
        {
          "output_type": "execute_result",
          "data": {
            "text/plain": [
              "0.995817258123573"
            ]
          },
          "metadata": {},
          "execution_count": 92
        }
      ]
    },
    {
      "cell_type": "code",
      "source": [
        "fig = plt.figure(figsize=(24,8))\n",
        "fig.add_subplot(1,2,1)\n",
        "\n",
        "plt.scatter(x, y)\n",
        "plt.plot(x_test, lin_reg.predict(x_test), \"-r\")\n",
        "plt.xlabel(\"Height_30days\")\n",
        "plt.ylabel(\"Height_60days\")"
      ],
      "metadata": {
        "colab": {
          "base_uri": "https://localhost:8080/",
          "height": 515
        },
        "id": "b5y1TYY6ipnO",
        "outputId": "42371506-c9a8-49d6-ade1-e9f837cbcb55"
      },
      "execution_count": 93,
      "outputs": [
        {
          "output_type": "execute_result",
          "data": {
            "text/plain": [
              "Text(0, 0.5, 'Height_60days')"
            ]
          },
          "metadata": {},
          "execution_count": 93
        },
        {
          "output_type": "display_data",
          "data": {
            "text/plain": [
              "<Figure size 1728x576 with 1 Axes>"
            ],
            "image/png": "[encoded data removed]"
          },
          "metadata": {
            "needs_background": "light"
          }
        }
      ]
    },
    {
      "cell_type": "code",
      "source": [
        "# y_pred = lin_reg.predict(x)\n",
        "# misal test_x dan y_pred\n",
        "test_x = 100\n",
        "print(\"x : \", test_x, \", y_pred : \", lin_reg.predict([[test_x]]))"
      ],
      "metadata": {
        "colab": {
          "base_uri": "https://localhost:8080/"
        },
        "id": "tuV2OlxxiwJx",
        "outputId": "8f18c425-0fde-4316-9f62-edf278c3286c"
      },
      "execution_count": 95,
      "outputs": [
        {
          "output_type": "stream",
          "name": "stdout",
          "text": [
            "x :  100 , y_pred :  [[130.01228375]]\n"
          ]
        },
        {
          "output_type": "stream",
          "name": "stderr",
          "text": [
            "/usr/local/lib/python3.7/dist-packages/sklearn/base.py:451: UserWarning: X does not have valid feature names, but LinearRegression was fitted with feature names\n",
            "  \"X does not have valid feature names, but\"\n"
          ]
        }
      ]
    }
  ]
}